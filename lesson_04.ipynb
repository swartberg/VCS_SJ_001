{
 "cells": [
  {
   "cell_type": "markdown",
   "metadata": {},
   "source": [
    "# lists tesinys"
   ]
  },
  {
   "cell_type": "markdown",
   "metadata": {},
   "source": [
    "## mutable and immutable variables"
   ]
  },
  {
   "cell_type": "code",
   "execution_count": 3,
   "metadata": {},
   "outputs": [
    {
     "name": "stdout",
     "output_type": "stream",
     "text": [
      "before\n",
      "2363070480624\n",
      "2363070480624\n",
      "after\n",
      "2363070480624\n",
      "2363070480784\n"
     ]
    }
   ],
   "source": [
    "a = 1\n",
    "b = a\n",
    "print('before')\n",
    "print(id(a))\n",
    "print(id(b))\n",
    "b += 5\n",
    "print('after')\n",
    "print(id(a))\n",
    "print(id(b))\n"
   ]
  },
  {
   "cell_type": "code",
   "execution_count": 5,
   "metadata": {},
   "outputs": [
    {
     "name": "stdout",
     "output_type": "stream",
     "text": [
      "before\n",
      "2363168266112\n",
      "2363168266112\n",
      "after\n",
      "2363168266112\n",
      "2363168266112\n"
     ]
    }
   ],
   "source": [
    "a = [1, 2, 3]\n",
    "b = a\n",
    "print('before')\n",
    "print(id(a))\n",
    "print(id(b))\n",
    "b.append(5)\n",
    "print('after')\n",
    "print(id(a))\n",
    "print(id(b))"
   ]
  },
  {
   "cell_type": "code",
   "execution_count": 9,
   "metadata": {},
   "outputs": [
    {
     "name": "stdout",
     "output_type": "stream",
     "text": [
      "before\n",
      "2363168262144\n",
      "2363167905152\n",
      "after\n",
      "a [1, 2, 3]\n",
      "b [1, 2, 3, 'd']\n",
      "2363168262144\n",
      "2363167905152\n"
     ]
    }
   ],
   "source": [
    "# fix #1\n",
    "a = [1, 2, 3]\n",
    "b = a.copy()\n",
    "print('before')\n",
    "print(id(a))\n",
    "print(id(b))\n",
    "b.append(5)\n",
    "print('after')\n",
    "print('a', a)\n",
    "print('b', b)\n",
    "print(id(a))\n",
    "print(id(b))"
   ]
  },
  {
   "cell_type": "code",
   "execution_count": 10,
   "metadata": {},
   "outputs": [
    {
     "name": "stdout",
     "output_type": "stream",
     "text": [
      "before\n",
      "2363168267264\n",
      "2363168266112\n",
      "after\n",
      "a [1, 2, ['a', 'b', 'c', 'd']]\n",
      "b [1, 2, ['a', 'b', 'c', 'd']]\n",
      "2363168267264\n",
      "2363168266112\n"
     ]
    }
   ],
   "source": [
    "# where fix #1 does not work\n",
    "a = [1, 2, ['a', 'b', 'c']]\n",
    "b = a.copy()\n",
    "print('before')\n",
    "print(id(a))\n",
    "print(id(b))\n",
    "b[-1].append('d')\n",
    "print('after')\n",
    "print('a', a)\n",
    "print('b', b)\n",
    "print(id(a))\n",
    "print(id(b))"
   ]
  },
  {
   "cell_type": "code",
   "execution_count": 11,
   "metadata": {},
   "outputs": [
    {
     "name": "stdout",
     "output_type": "stream",
     "text": [
      "before\n",
      "2363168027776\n",
      "2363168021120\n",
      "after\n",
      "a [1, 2, ['a', 'b', 'c']]\n",
      "b [1, 2, ['a', 'b', 'c', 'd']]\n",
      "2363168027776\n",
      "2363168021120\n"
     ]
    }
   ],
   "source": [
    "# fix #2\n",
    "import copy\n",
    "a = [1, 2, ['a', 'b', 'c']]\n",
    "b = copy.deepcopy(a)\n",
    "print('before')\n",
    "print(id(a))\n",
    "print(id(b))\n",
    "b[-1].append('d')\n",
    "print('after')\n",
    "print('a', a)\n",
    "print('b', b)\n",
    "print(id(a))\n",
    "print(id(b))\n"
   ]
  },
  {
   "cell_type": "code",
   "execution_count": null,
   "metadata": {},
   "outputs": [],
   "source": []
  },
  {
   "cell_type": "markdown",
   "metadata": {},
   "source": [
    "# range"
   ]
  },
  {
   "cell_type": "code",
   "execution_count": 21,
   "metadata": {},
   "outputs": [
    {
     "name": "stdout",
     "output_type": "stream",
     "text": [
      "range(0, 10)\n",
      "<class 'range'>\n",
      "[0, 1, 2, 3, 4, 5, 6, 7, 8, 9]\n",
      "[1, 2, 3, 4, 5, 6, 7, 8, 9]\n",
      "[1, 3, 5, 7, 9]\n",
      "[10, 30, 50, 70, 90, 110, 130, 150, 170, 190]\n"
     ]
    }
   ],
   "source": [
    "print(range(10))\n",
    "print(type(range(10)))\n",
    "print(list(range(10)))\n",
    "print(list(range(1, 10)))\n",
    "print(list(range(1, 10, 2)))\n",
    "print(list(range(10, 200, 20)))\n"
   ]
  },
  {
   "cell_type": "markdown",
   "metadata": {},
   "source": [
    "# for loop"
   ]
  },
  {
   "cell_type": "code",
   "execution_count": 33,
   "metadata": {},
   "outputs": [
    {
     "name": "stdout",
     "output_type": "stream",
     "text": [
      "Dabar miestas yra Vilnius\n",
      "Dabar miestas yra Klaipeda\n",
      "Dabar miestas yra Siauliai\n",
      "End\n"
     ]
    }
   ],
   "source": [
    "cities = ['Vilnius', 'Klaipeda', 'Siauliai']\n",
    "\n",
    "#for <any name> in <list/seq>:\n",
    "for city in cities:\n",
    "    print(f'Dabar miestas yra {city}')\n",
    "print('End')"
   ]
  },
  {
   "cell_type": "code",
   "execution_count": 37,
   "metadata": {},
   "outputs": [
    {
     "name": "stdout",
     "output_type": "stream",
     "text": [
      "11 ^ 2 = 121\n",
      "14 ^ 2 = 196\n",
      "17 ^ 2 = 289\n",
      "20 ^ 2 = 400\n",
      "23 ^ 2 = 529\n",
      "26 ^ 2 = 676\n",
      "29 ^ 2 = 841\n",
      "32 ^ 2 = 1024\n"
     ]
    }
   ],
   "source": [
    "for number in range(11, 34, 3):\n",
    "    print(f\"{number} ^ 2 =\", number ** 2)"
   ]
  },
  {
   "cell_type": "code",
   "execution_count": 40,
   "metadata": {},
   "outputs": [
    {
     "name": "stdout",
     "output_type": "stream",
     "text": [
      "Vilnius miestas\n",
      "Klaipeda miestas\n",
      "Siauliai miestas\n"
     ]
    }
   ],
   "source": [
    "# loop for index\n",
    "for i in range(len(cities)):\n",
    "    print(f'{cities[i]} miestas')"
   ]
  },
  {
   "cell_type": "code",
   "execution_count": 43,
   "metadata": {},
   "outputs": [
    {
     "name": "stdout",
     "output_type": "stream",
     "text": [
      "Vilnius yra miestas. Jo indeksas yra 0\n",
      "Klaipeda yra miestas. Jo indeksas yra 1\n",
      "Siauliai yra miestas. Jo indeksas yra 2\n"
     ]
    }
   ],
   "source": [
    "# enumerate is better than range\n",
    "for i, city in enumerate(cities):\n",
    "    print(f'{city} yra miestas. Jo indeksas yra {i}')"
   ]
  },
  {
   "cell_type": "markdown",
   "metadata": {},
   "source": [
    "## uzduotys"
   ]
  },
  {
   "cell_type": "code",
   "execution_count": 80,
   "metadata": {},
   "outputs": [
    {
     "name": "stdout",
     "output_type": "stream",
     "text": [
      "1\n",
      "2\n",
      "3\n",
      "4\n",
      "5\n",
      "6\n",
      "7\n",
      "8\n",
      "9\n",
      "10\n",
      "1275\n"
     ]
    }
   ],
   "source": [
    "# 1\n",
    "for numbers in range(1,11):\n",
    "    print(numbers)\n",
    "\n",
    "suma = 0\n",
    "for numbers in range(1, 51):\n",
    "    suma += numbers\n",
    "print(suma)"
   ]
  },
  {
   "cell_type": "code",
   "execution_count": 67,
   "metadata": {},
   "outputs": [
    {
     "name": "stdout",
     "output_type": "stream",
     "text": [
      "5\n",
      "10\n",
      "15\n",
      "20\n",
      "25\n",
      "30\n",
      "35\n",
      "40\n",
      "45\n",
      "50\n"
     ]
    }
   ],
   "source": [
    "# 2\n",
    "x_num = input('Enter number')\n",
    "\n",
    "for multi in range(1, 11):\n",
    "    print(multi * int(x_num))"
   ]
  },
  {
   "cell_type": "code",
   "execution_count": 79,
   "metadata": {},
   "outputs": [
    {
     "name": "stdout",
     "output_type": "stream",
     "text": [
      "[['Pirmadienis', 10], ['Pirmadienis', 11], ['Pirmadienis', 12], ['Pirmadienis', 13], ['Pirmadienis', 14], ['Pirmadienis', 15], ['Pirmadienis', 16], ['Pirmadienis', 17], ['Pirmadienis', 18], ['Pirmadienis', 19], ['Antradienis', 10], ['Antradienis', 11], ['Antradienis', 12], ['Antradienis', 13], ['Antradienis', 14], ['Antradienis', 15], ['Antradienis', 16], ['Antradienis', 17], ['Antradienis', 18], ['Antradienis', 19], ['Treciadienis', 10], ['Treciadienis', 11], ['Treciadienis', 12], ['Treciadienis', 13], ['Treciadienis', 14], ['Treciadienis', 15], ['Treciadienis', 16], ['Treciadienis', 17], ['Treciadienis', 18], ['Treciadienis', 19], ['Ketvirtadienis', 10], ['Ketvirtadienis', 11], ['Ketvirtadienis', 12], ['Ketvirtadienis', 13], ['Ketvirtadienis', 14], ['Ketvirtadienis', 15], ['Ketvirtadienis', 16], ['Ketvirtadienis', 17], ['Ketvirtadienis', 18], ['Ketvirtadienis', 19], ['Penktadienis', 10], ['Penktadienis', 11], ['Penktadienis', 12], ['Penktadienis', 13], ['Penktadienis', 14], ['Penktadienis', 15], ['Penktadienis', 16], ['Penktadienis', 17], ['Penktadienis', 18], ['Penktadienis', 19], ['Sestadienis', 10], ['Sestadienis', 11], ['Sestadienis', 12], ['Sestadienis', 13], ['Sestadienis', 14], ['Sestadienis', 15], ['Sestadienis', 16], ['Sestadienis', 17], ['Sestadienis', 18], ['Sestadienis', 19], ['Sekmadienis', 10], ['Sekmadienis', 11], ['Sekmadienis', 12], ['Sekmadienis', 13], ['Sekmadienis', 14], ['Sekmadienis', 15], ['Sekmadienis', 16], ['Sekmadienis', 17], ['Sekmadienis', 18], ['Sekmadienis', 19]]\n"
     ]
    }
   ],
   "source": [
    "# 3\n",
    "dienos = ['Pirmadienis', 'Antradienis', 'Treciadienis', 'Ketvirtadienis', 'Penktadienis', 'Sestadienis', 'Sekmadienis']\n",
    "valandos = [10, 11, 12, 13, 14, 15, 16, 17, 18, 19]\n",
    "\n",
    "new_list = []\n",
    "for diena in dienos:\n",
    "    # print(diena)\n",
    "    for valanda in valandos:\n",
    "        # print(valanda)\n",
    "        diena, valanda\n",
    "        new_list.append([diena, valanda])\n",
    "print(new_list)"
   ]
  },
  {
   "cell_type": "markdown",
   "metadata": {},
   "source": [
    "# if statements"
   ]
  },
  {
   "cell_type": "code",
   "execution_count": 87,
   "metadata": {},
   "outputs": [
    {
     "name": "stdout",
     "output_type": "stream",
     "text": [
      "Your age is between 30 and 65\n"
     ]
    }
   ],
   "source": [
    "age = 46\n",
    "if age >= 65:\n",
    "    print(f'Your age is {age}, therefore you are allowed to enter')\n",
    "elif age >= 30:\n",
    "    print(f'Your age is between 30 and 65')\n",
    "else:\n",
    "    print(f'You are not allowed to enter')"
   ]
  },
  {
   "cell_type": "markdown",
   "metadata": {},
   "source": [
    "## uzduotys"
   ]
  },
  {
   "cell_type": "code",
   "execution_count": 88,
   "metadata": {},
   "outputs": [
    {
     "name": "stdout",
     "output_type": "stream",
     "text": [
      "3\n",
      "6\n",
      "9\n",
      "12\n",
      "15\n",
      "18\n"
     ]
    }
   ],
   "source": [
    "for number in range(1, 21):\n",
    "    if number % 3 == 0:\n",
    "        print(number)\n"
   ]
  },
  {
   "cell_type": "code",
   "execution_count": 89,
   "metadata": {},
   "outputs": [
    {
     "name": "stdout",
     "output_type": "stream",
     "text": [
      "650\n"
     ]
    }
   ],
   "source": [
    "suma = 0\n",
    "for number in range(1, 51):\n",
    "    einama_suma = suma + number\n",
    "    if einama_suma % 2 == 0:\n",
    "        suma += number\n",
    "print(suma)"
   ]
  },
  {
   "cell_type": "code",
   "execution_count": 121,
   "metadata": {},
   "outputs": [
    {
     "name": "stdout",
     "output_type": "stream",
     "text": [
      "Blogas skaicius\n"
     ]
    }
   ],
   "source": [
    "in_number = int(input())\n",
    "if (in_number ** 2) % 2 != 0:\n",
    "    for number in range(1, 11):\n",
    "        print(number * in_number)\n",
    "else:\n",
    "    print('Blogas skaicius')"
   ]
  },
  {
   "cell_type": "code",
   "execution_count": 123,
   "metadata": {},
   "outputs": [
    {
     "name": "stdout",
     "output_type": "stream",
     "text": [
      "[['Pirmadienis', 12], ['Pirmadienis', 13], ['Pirmadienis', 14], ['Pirmadienis', 15], ['Pirmadienis', 16], ['Pirmadienis', 17], ['Treciadienis', 12], ['Treciadienis', 13], ['Treciadienis', 14], ['Treciadienis', 15], ['Treciadienis', 16], ['Treciadienis', 17]]\n"
     ]
    }
   ],
   "source": [
    "dienos = ['Pirmadienis', 'Antradienis', 'Treciadienis', 'Ketvirtadienis', 'Penktadienis', 'Sestadienis', 'Sekmadienis']\n",
    "valandos = [10, 11, 12, 13, 14, 15, 16, 17, 18, 19]\n",
    "\n",
    "new_list = []\n",
    "tinkamos_dienos = ['Pirmadienis', 'Treciadienis']\n",
    "tinkamos_valandos = list(range(12, 18))\n",
    "\n",
    "for diena in dienos:\n",
    "    if diena in tinkamos_dienos:\n",
    "        for valanda in valandos:\n",
    "            if valanda in tinkamos_valandos:\n",
    "                new_list.append([diena, valanda])\n",
    "print(new_list)\n"
   ]
  }
 ],
 "metadata": {
  "kernelspec": {
   "display_name": "Python 3",
   "language": "python",
   "name": "python3"
  },
  "language_info": {
   "codemirror_mode": {
    "name": "ipython",
    "version": 3
   },
   "file_extension": ".py",
   "mimetype": "text/x-python",
   "name": "python",
   "nbconvert_exporter": "python",
   "pygments_lexer": "ipython3",
   "version": "3.10.2"
  }
 },
 "nbformat": 4,
 "nbformat_minor": 2
}
