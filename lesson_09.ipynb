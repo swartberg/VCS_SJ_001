{
 "cells": [
  {
   "cell_type": "markdown",
   "metadata": {},
   "source": [
    "# classes"
   ]
  },
  {
   "cell_type": "code",
   "execution_count": 27,
   "metadata": {},
   "outputs": [],
   "source": [
    "class Unicorn:\n",
    "    # __init__ - dunder method\n",
    "    def __init__(self, name, color, birth_year):\n",
    "        # attributes\n",
    "        self.name = name\n",
    "        self.color = color\n",
    "        self.birth_year = birth_year\n",
    "    \n",
    "    # methods\n",
    "    def say(self):\n",
    "        return f'Hello, my name is {self.name} and my color is {self.color}'\n",
    "    \n",
    "    def say_2(self, current_year):\n",
    "        return f'Hello, my name is {self.name} and my color is {self.color}. I am {current_year - self.birth_year} years old'\n",
    "    \n",
    "    def __str__(self):\n",
    "        return f'Unicorn {self.name} {self.color}'"
   ]
  },
  {
   "cell_type": "code",
   "execution_count": 28,
   "metadata": {},
   "outputs": [],
   "source": [
    "unicorn_1 = Unicorn('Saulius', 'white', 1236)\n",
    "unicorn_2 = Unicorn('Vienaragis', 'rainbow', 2000)"
   ]
  },
  {
   "cell_type": "code",
   "execution_count": 29,
   "metadata": {},
   "outputs": [
    {
     "name": "stdout",
     "output_type": "stream",
     "text": [
      "Unicorn Saulius white\n",
      "Unicorn's name is Saulius, it's color is white\n",
      "Unicorn's name is Vienaragis, it's color is rainbow\n"
     ]
    }
   ],
   "source": [
    "print(unicorn_1)\n",
    "print(f'Unicorn\\'s name is {unicorn_1.name}, it\\'s color is {unicorn_1.color}')\n",
    "print(f'Unicorn\\'s name is {unicorn_2.name}, it\\'s color is {unicorn_2.color}')"
   ]
  },
  {
   "cell_type": "code",
   "execution_count": 26,
   "metadata": {},
   "outputs": [
    {
     "name": "stdout",
     "output_type": "stream",
     "text": [
      "Hello, my name is Saulius and my color is white\n",
      "Hello, my name is Saulius and my color is white. I am 787 years old\n",
      "Hello, my name is Vienaragis and my color is rainbow\n",
      "Hello, my name is Vienaragis and my color is rainbow. I am 23 years old\n"
     ]
    }
   ],
   "source": [
    "unicorn_list = [unicorn_1, unicorn_2]\n",
    "for unicorn in unicorn_list:\n",
    "    # print(unicorn.name)\n",
    "    print(unicorn.say())\n",
    "    print(unicorn.say_2(2023))\n"
   ]
  },
  {
   "cell_type": "code",
   "execution_count": 30,
   "metadata": {},
   "outputs": [],
   "source": [
    "class Dog:\n",
    "    def __init__(self, name, color, birth_year):\n",
    "        self.name = name\n",
    "        self.color = color\n",
    "        self.birth_year = birth_year\n",
    "    \n",
    "    # methods\n",
    "    def say(self):\n",
    "        return f'Hello, I am a dog - woof woof. My name is {self.name} and my color is {self.color} woof woof'"
   ]
  },
  {
   "cell_type": "code",
   "execution_count": 37,
   "metadata": {},
   "outputs": [],
   "source": [
    "class Cat:\n",
    "    def __init__(self, name, color, birth_year):\n",
    "        self.name = name\n",
    "        self.color = color\n",
    "        self.birth_year = birth_year\n",
    "    \n",
    "    # methods\n",
    "    def say(self):\n",
    "        return f'Hello, I am a cat - meow. My name is {self.name} and my color is {self.color} meow'"
   ]
  },
  {
   "cell_type": "code",
   "execution_count": 38,
   "metadata": {},
   "outputs": [
    {
     "name": "stdout",
     "output_type": "stream",
     "text": [
      "Hello, I am a dog - woof woof. My name is Rex and my color is black woof woof\n",
      "Hello, I am a cat - meow. My name is Lakis and my color is black meow\n"
     ]
    }
   ],
   "source": [
    "dog = Dog('Rex', 'black', 2016)\n",
    "cat = Cat('Lakis', 'black', 2004)\n",
    "\n",
    "print(dog.say())\n",
    "print(cat.say())"
   ]
  },
  {
   "cell_type": "markdown",
   "metadata": {},
   "source": [
    "## inheritance"
   ]
  },
  {
   "cell_type": "code",
   "execution_count": 39,
   "metadata": {},
   "outputs": [],
   "source": [
    "class Animal:\n",
    "    def __init__(self, name, color, birth_year):\n",
    "        self.name = name\n",
    "        self.color = color\n",
    "        self.birth_year = birth_year\n",
    "    \n",
    "    # methods\n",
    "    def say(self):\n",
    "        # pass\n",
    "        raise NotImplementedError('This method is not implemented yet')"
   ]
  },
  {
   "cell_type": "code",
   "execution_count": 40,
   "metadata": {},
   "outputs": [],
   "source": [
    "class Dog(Animal):\n",
    "    def say(self):\n",
    "        return f'Hello, I am a dog - woof woof. My name is {self.name} and my color is {self.color} woof woof'"
   ]
  },
  {
   "cell_type": "code",
   "execution_count": 41,
   "metadata": {},
   "outputs": [],
   "source": [
    "class Cat(Animal):\n",
    "    def say(self):\n",
    "        return f'Hello, I am a cat - meow. My name is {self.name} and my color is {self.color} meow'"
   ]
  },
  {
   "cell_type": "code",
   "execution_count": 42,
   "metadata": {},
   "outputs": [
    {
     "name": "stdout",
     "output_type": "stream",
     "text": [
      "Hello, I am a dog - woof woof. My name is Rex and my color is black woof woof\n",
      "Hello, I am a cat - meow. My name is Lakis and my color is black meow\n"
     ]
    }
   ],
   "source": [
    "dog = Dog('Rex', 'black', 2016)\n",
    "cat = Cat('Lakis', 'black', 2004)\n",
    "\n",
    "print(dog.say())\n",
    "print(cat.say())"
   ]
  },
  {
   "cell_type": "code",
   "execution_count": 43,
   "metadata": {},
   "outputs": [
    {
     "name": "stdout",
     "output_type": "stream",
     "text": [
      "Hello, I am a dog - woof woof. My name is Rex and my color is black woof woof\n",
      "Hello, I am a cat - meow. My name is Lakis and my color is black meow\n"
     ]
    }
   ],
   "source": [
    "animals = [dog, cat]\n",
    "for animal in animals:\n",
    "    print(animal.say())"
   ]
  },
  {
   "cell_type": "markdown",
   "metadata": {},
   "source": [
    "# pandas"
   ]
  },
  {
   "cell_type": "code",
   "execution_count": null,
   "metadata": {},
   "outputs": [],
   "source": []
  }
 ],
 "metadata": {
  "kernelspec": {
   "display_name": "Python 3",
   "language": "python",
   "name": "python3"
  },
  "language_info": {
   "codemirror_mode": {
    "name": "ipython",
    "version": 3
   },
   "file_extension": ".py",
   "mimetype": "text/x-python",
   "name": "python",
   "nbconvert_exporter": "python",
   "pygments_lexer": "ipython3",
   "version": "3.10.2"
  }
 },
 "nbformat": 4,
 "nbformat_minor": 2
}
