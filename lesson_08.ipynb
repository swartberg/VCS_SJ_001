{
 "cells": [
  {
   "cell_type": "code",
   "execution_count": 4,
   "metadata": {},
   "outputs": [
    {
     "name": "stdout",
     "output_type": "stream",
     "text": [
      "<list_iterator object at 0x000001B248A76830>\n",
      "2\n",
      "5\n",
      "3\n"
     ]
    },
    {
     "ename": "StopIteration",
     "evalue": "",
     "output_type": "error",
     "traceback": [
      "\u001b[1;31m---------------------------------------------------------------------------\u001b[0m",
      "\u001b[1;31mStopIteration\u001b[0m                             Traceback (most recent call last)",
      "\u001b[1;32mc:\\Users\\PC\\Desktop\\Python\\VCS_SJ_001\\lesson_08.ipynb Cell 1\u001b[0m line \u001b[0;36m6\n\u001b[0;32m      <a href='vscode-notebook-cell:/c%3A/Users/PC/Desktop/Python/VCS_SJ_001/lesson_08.ipynb#W0sZmlsZQ%3D%3D?line=3'>4</a>\u001b[0m \u001b[39mprint\u001b[39m(\u001b[39mnext\u001b[39m(my_iter))\n\u001b[0;32m      <a href='vscode-notebook-cell:/c%3A/Users/PC/Desktop/Python/VCS_SJ_001/lesson_08.ipynb#W0sZmlsZQ%3D%3D?line=4'>5</a>\u001b[0m \u001b[39mprint\u001b[39m(\u001b[39mnext\u001b[39m(my_iter))\n\u001b[1;32m----> <a href='vscode-notebook-cell:/c%3A/Users/PC/Desktop/Python/VCS_SJ_001/lesson_08.ipynb#W0sZmlsZQ%3D%3D?line=5'>6</a>\u001b[0m \u001b[39mprint\u001b[39m(\u001b[39mnext\u001b[39;49m(my_iter))\n\u001b[0;32m      <a href='vscode-notebook-cell:/c%3A/Users/PC/Desktop/Python/VCS_SJ_001/lesson_08.ipynb#W0sZmlsZQ%3D%3D?line=6'>7</a>\u001b[0m \u001b[39mprint\u001b[39m(my_iter)\n",
      "\u001b[1;31mStopIteration\u001b[0m: "
     ]
    }
   ],
   "source": [
    "my_iter = iter([2, 5, 3])\n",
    "print(my_iter)\n",
    "print(next(my_iter))\n",
    "print(next(my_iter))\n",
    "print(next(my_iter))\n",
    "print(next(my_iter))\n",
    "print(my_iter)"
   ]
  },
  {
   "cell_type": "markdown",
   "metadata": {},
   "source": [
    "# raising errors"
   ]
  },
  {
   "cell_type": "code",
   "execution_count": 22,
   "metadata": {},
   "outputs": [
    {
     "ename": "ValueError",
     "evalue": "value of a must be an integer and not a string",
     "output_type": "error",
     "traceback": [
      "\u001b[1;31m---------------------------------------------------------------------------\u001b[0m",
      "\u001b[1;31mValueError\u001b[0m                                Traceback (most recent call last)",
      "\u001b[1;32mc:\\Users\\PC\\Desktop\\Python\\VCS_SJ_001\\lesson_08.ipynb Cell 3\u001b[0m line \u001b[0;36m8\n\u001b[0;32m      <a href='vscode-notebook-cell:/c%3A/Users/PC/Desktop/Python/VCS_SJ_001/lesson_08.ipynb#W2sZmlsZQ%3D%3D?line=4'>5</a>\u001b[0m     \u001b[39mreturn\u001b[39;00m a \u001b[39m+\u001b[39m b\n\u001b[0;32m      <a href='vscode-notebook-cell:/c%3A/Users/PC/Desktop/Python/VCS_SJ_001/lesson_08.ipynb#W2sZmlsZQ%3D%3D?line=6'>7</a>\u001b[0m \u001b[39m# print(add_number(5, 3))\u001b[39;00m\n\u001b[1;32m----> <a href='vscode-notebook-cell:/c%3A/Users/PC/Desktop/Python/VCS_SJ_001/lesson_08.ipynb#W2sZmlsZQ%3D%3D?line=7'>8</a>\u001b[0m \u001b[39mprint\u001b[39m(add_number(\u001b[39m'\u001b[39;49m\u001b[39m5\u001b[39;49m\u001b[39m'\u001b[39;49m, \u001b[39m'\u001b[39;49m\u001b[39m3\u001b[39;49m\u001b[39m'\u001b[39;49m))\n",
      "\u001b[1;32mc:\\Users\\PC\\Desktop\\Python\\VCS_SJ_001\\lesson_08.ipynb Cell 3\u001b[0m line \u001b[0;36m4\n\u001b[0;32m      <a href='vscode-notebook-cell:/c%3A/Users/PC/Desktop/Python/VCS_SJ_001/lesson_08.ipynb#W2sZmlsZQ%3D%3D?line=0'>1</a>\u001b[0m \u001b[39mdef\u001b[39;00m \u001b[39madd_number\u001b[39m(a, b):\n\u001b[0;32m      <a href='vscode-notebook-cell:/c%3A/Users/PC/Desktop/Python/VCS_SJ_001/lesson_08.ipynb#W2sZmlsZQ%3D%3D?line=2'>3</a>\u001b[0m     \u001b[39mif\u001b[39;00m \u001b[39mnot\u001b[39;00m \u001b[39misinstance\u001b[39m(a, \u001b[39mint\u001b[39m):\n\u001b[1;32m----> <a href='vscode-notebook-cell:/c%3A/Users/PC/Desktop/Python/VCS_SJ_001/lesson_08.ipynb#W2sZmlsZQ%3D%3D?line=3'>4</a>\u001b[0m         \u001b[39mraise\u001b[39;00m \u001b[39mValueError\u001b[39;00m(\u001b[39mf\u001b[39m\u001b[39m'\u001b[39m\u001b[39mvalue of a must be an integer and not a string\u001b[39m\u001b[39m'\u001b[39m)\n\u001b[0;32m      <a href='vscode-notebook-cell:/c%3A/Users/PC/Desktop/Python/VCS_SJ_001/lesson_08.ipynb#W2sZmlsZQ%3D%3D?line=4'>5</a>\u001b[0m     \u001b[39mreturn\u001b[39;00m a \u001b[39m+\u001b[39m b\n",
      "\u001b[1;31mValueError\u001b[0m: value of a must be an integer and not a string"
     ]
    }
   ],
   "source": [
    "def add_number(a, b):\n",
    "\n",
    "    if not isinstance(a, int):\n",
    "        raise ValueError(f'value of a must be an integer and not a string')\n",
    "    return a + b\n",
    "\n",
    "# print(add_number(5, 3))\n",
    "print(add_number('5', '3'))"
   ]
  },
  {
   "cell_type": "markdown",
   "metadata": {},
   "source": [
    "# try"
   ]
  },
  {
   "cell_type": "code",
   "execution_count": 33,
   "metadata": {},
   "outputs": [
    {
     "name": "stdout",
     "output_type": "stream",
     "text": [
      "try begging\n",
      "some error\n",
      "end of code\n"
     ]
    }
   ],
   "source": [
    "a = 5\n",
    "b = 0\n",
    "\n",
    "try:\n",
    "    print('try begging')\n",
    "    c = a / b\n",
    "    print('try end')\n",
    "except: # BAD practice\n",
    "    print('some error')\n",
    "\n",
    "print('end of code')"
   ]
  },
  {
   "cell_type": "code",
   "execution_count": 37,
   "metadata": {},
   "outputs": [
    {
     "name": "stdout",
     "output_type": "stream",
     "text": [
      "try begging\n",
      "ZeroDivisionError happened\n",
      "end of code\n"
     ]
    }
   ],
   "source": [
    "a = 5\n",
    "b = 0\n",
    "\n",
    "try:\n",
    "    print('try begging')\n",
    "    # print(d)\n",
    "    c = a / b\n",
    "    print('try end')\n",
    "except ZeroDivisionError: # GOOD practice\n",
    "    print('ZeroDivisionError happened')\n",
    "\n",
    "print('end of code')"
   ]
  },
  {
   "cell_type": "code",
   "execution_count": 54,
   "metadata": {},
   "outputs": [
    {
     "name": "stdout",
     "output_type": "stream",
     "text": [
      "try begging\n",
      "NameError happened: name 'd' is not defined\n",
      "finally executed\n",
      "end of code\n"
     ]
    }
   ],
   "source": [
    "a = 5\n",
    "b = 0\n",
    "\n",
    "try:\n",
    "    print('try begging')\n",
    "    print(d)\n",
    "    c = a / b\n",
    "    print('try end')\n",
    "except ZeroDivisionError as e: # GOOD practice\n",
    "    print(f'ZeroDivisionError happened: {e}')\n",
    "except NameError as e: # GOOD practice\n",
    "    print(f'NameError happened: {e}')\n",
    "finally:\n",
    "    print('finally executed')\n",
    "\n",
    "\n",
    "\n",
    "print('end of code')"
   ]
  },
  {
   "cell_type": "code",
   "execution_count": 51,
   "metadata": {},
   "outputs": [
    {
     "name": "stdout",
     "output_type": "stream",
     "text": [
      "1.5707963267948966\n",
      "2\n"
     ]
    }
   ],
   "source": [
    "import math as m\n",
    "\n",
    "print(m.radians(90))\n",
    "print(int(m.sqrt(4)))\n"
   ]
  },
  {
   "cell_type": "markdown",
   "metadata": {},
   "source": [
    "## getting away without try/except"
   ]
  },
  {
   "cell_type": "code",
   "execution_count": 57,
   "metadata": {},
   "outputs": [
    {
     "name": "stdout",
     "output_type": "stream",
     "text": [
      "0.5\n"
     ]
    }
   ],
   "source": [
    "a = 5\n",
    "b = 10\n",
    "\n",
    "if b == 0:\n",
    "    b = 1\n",
    "\n",
    "c = a / b\n",
    "print(c)"
   ]
  },
  {
   "cell_type": "code",
   "execution_count": 72,
   "metadata": {},
   "outputs": [
    {
     "ename": "ValueError",
     "evalue": "ValueError. \"523\" (<class 'str'>) should be an integer",
     "output_type": "error",
     "traceback": [
      "\u001b[1;31m---------------------------------------------------------------------------\u001b[0m",
      "\u001b[1;31mValueError\u001b[0m                                Traceback (most recent call last)",
      "\u001b[1;32mc:\\Users\\PC\\Desktop\\Python\\VCS_SJ_001\\lesson_08.ipynb Cell 11\u001b[0m line \u001b[0;36m1\n\u001b[0;32m      <a href='vscode-notebook-cell:/c%3A/Users/PC/Desktop/Python/VCS_SJ_001/lesson_08.ipynb#X13sZmlsZQ%3D%3D?line=6'>7</a>\u001b[0m     \u001b[39mreturn\u001b[39;00m a \u001b[39m+\u001b[39m b\n\u001b[0;32m      <a href='vscode-notebook-cell:/c%3A/Users/PC/Desktop/Python/VCS_SJ_001/lesson_08.ipynb#X13sZmlsZQ%3D%3D?line=8'>9</a>\u001b[0m add_number_3(\u001b[39m5\u001b[39m, \u001b[39m6\u001b[39m)\n\u001b[1;32m---> <a href='vscode-notebook-cell:/c%3A/Users/PC/Desktop/Python/VCS_SJ_001/lesson_08.ipynb#X13sZmlsZQ%3D%3D?line=9'>10</a>\u001b[0m add_number_3(\u001b[39m5\u001b[39;49m, \u001b[39m'\u001b[39;49m\u001b[39m523\u001b[39;49m\u001b[39m'\u001b[39;49m)\n",
      "\u001b[1;32mc:\\Users\\PC\\Desktop\\Python\\VCS_SJ_001\\lesson_08.ipynb Cell 11\u001b[0m line \u001b[0;36m6\n\u001b[0;32m      <a href='vscode-notebook-cell:/c%3A/Users/PC/Desktop/Python/VCS_SJ_001/lesson_08.ipynb#X13sZmlsZQ%3D%3D?line=3'>4</a>\u001b[0m     a \u001b[39m=\u001b[39m \u001b[39mint\u001b[39m(\u001b[39m5\u001b[39m)\n\u001b[0;32m      <a href='vscode-notebook-cell:/c%3A/Users/PC/Desktop/Python/VCS_SJ_001/lesson_08.ipynb#X13sZmlsZQ%3D%3D?line=4'>5</a>\u001b[0m \u001b[39mif\u001b[39;00m \u001b[39mnot\u001b[39;00m \u001b[39misinstance\u001b[39m(b, \u001b[39mint\u001b[39m):\n\u001b[1;32m----> <a href='vscode-notebook-cell:/c%3A/Users/PC/Desktop/Python/VCS_SJ_001/lesson_08.ipynb#X13sZmlsZQ%3D%3D?line=5'>6</a>\u001b[0m     \u001b[39mraise\u001b[39;00m \u001b[39mValueError\u001b[39;00m(\u001b[39mf\u001b[39m\u001b[39m'\u001b[39m\u001b[39mValueError. \u001b[39m\u001b[39m\"\u001b[39m\u001b[39m{\u001b[39;00mb\u001b[39m}\u001b[39;00m\u001b[39m\"\u001b[39m\u001b[39m (\u001b[39m\u001b[39m{\u001b[39;00m\u001b[39mtype\u001b[39m(b)\u001b[39m}\u001b[39;00m\u001b[39m) should be an integer\u001b[39m\u001b[39m'\u001b[39m)\n\u001b[0;32m      <a href='vscode-notebook-cell:/c%3A/Users/PC/Desktop/Python/VCS_SJ_001/lesson_08.ipynb#X13sZmlsZQ%3D%3D?line=6'>7</a>\u001b[0m \u001b[39mreturn\u001b[39;00m a \u001b[39m+\u001b[39m b\n",
      "\u001b[1;31mValueError\u001b[0m: ValueError. \"523\" (<class 'str'>) should be an integer"
     ]
    }
   ],
   "source": [
    "def add_number_3(a, b):\n",
    "\n",
    "    if isinstance(a, str) and a.isdigit():\n",
    "        a = int(5)\n",
    "    if not isinstance(b, int):\n",
    "        raise ValueError(f'ValueError. \"{b}\" ({type(b)}) should be an integer')\n",
    "    return a + b\n",
    "\n",
    "add_number_3(5, 6)\n",
    "add_number_3(5, '523')"
   ]
  },
  {
   "cell_type": "markdown",
   "metadata": {},
   "source": [
    "# working with files"
   ]
  },
  {
   "cell_type": "code",
   "execution_count": 97,
   "metadata": {},
   "outputs": [
    {
     "name": "stdout",
     "output_type": "stream",
     "text": [
      "C:\\Users\\PC\\Desktop\\Python\\VCS_SJ_001\n"
     ]
    },
    {
     "data": {
      "text/plain": [
       "['VCS_SJ_001']"
      ]
     },
     "execution_count": 97,
     "metadata": {},
     "output_type": "execute_result"
    }
   ],
   "source": [
    "import os\n",
    "\n",
    "os.chdir('C:/Users/PC/Desktop/Python/VCS_SJ_001/')\n",
    "print(os.getcwd()) # get the working directory\n",
    "\n",
    "os.listdir() # lists files in the working directory\n",
    "os.listdir('../')"
   ]
  },
  {
   "cell_type": "code",
   "execution_count": null,
   "metadata": {},
   "outputs": [],
   "source": [
    "os.getcwd()\n",
    "os.makedirs('folder_1/folder_2/folder_3')"
   ]
  },
  {
   "cell_type": "code",
   "execution_count": 101,
   "metadata": {},
   "outputs": [
    {
     "data": {
      "text/plain": [
       "<generator object _walk at 0x000001B2493680B0>"
      ]
     },
     "execution_count": 101,
     "metadata": {},
     "output_type": "execute_result"
    }
   ],
   "source": [
    "os.walk('.')"
   ]
  },
  {
   "cell_type": "code",
   "execution_count": 106,
   "metadata": {},
   "outputs": [
    {
     "name": "stdout",
     "output_type": "stream",
     "text": [
      "root: C:/Users/PC/Desktop/Python/VCS_SJ_001/folder_1/\n",
      "dirs: ['folder_2']\n",
      "files: []\n",
      "root: C:/Users/PC/Desktop/Python/VCS_SJ_001/folder_1/folder_2\n",
      "dirs: ['folder_3']\n",
      "files: []\n",
      "root: C:/Users/PC/Desktop/Python/VCS_SJ_001/folder_1/folder_2\\folder_3\n",
      "dirs: []\n",
      "files: ['text.txt']\n"
     ]
    }
   ],
   "source": [
    "for root, dirs, files in os.walk('C:/Users/PC/Desktop/Python/VCS_SJ_001/folder_1/'):\n",
    "    print(f'root: {root}')\n",
    "    print(f'dirs: {dirs}')\n",
    "    print(f'files: {files}')"
   ]
  },
  {
   "cell_type": "code",
   "execution_count": 107,
   "metadata": {},
   "outputs": [],
   "source": [
    "os.rmdir('./folder_1/folder_2/folder_3/folder_4/folder_5/') # removes only empty directory"
   ]
  },
  {
   "cell_type": "code",
   "execution_count": 108,
   "metadata": {},
   "outputs": [],
   "source": [
    "# delete files and folders inside\n",
    "import shutil\n",
    "\n",
    "shutil.rmtree('folder_1')"
   ]
  },
  {
   "cell_type": "markdown",
   "metadata": {},
   "source": [
    "## document read"
   ]
  },
  {
   "cell_type": "code",
   "execution_count": 111,
   "metadata": {},
   "outputs": [
    {
     "name": "stdout",
     "output_type": "stream",
     "text": [
      "Hello from text file\n",
      "\n",
      "new line\n"
     ]
    }
   ],
   "source": [
    "with open('text.txt', 'r') as fr: # name is arbitrary\n",
    "    text = fr.read()\n",
    "\n",
    "print(text)"
   ]
  },
  {
   "cell_type": "code",
   "execution_count": 112,
   "metadata": {},
   "outputs": [
    {
     "name": "stdout",
     "output_type": "stream",
     "text": [
      "C:\\Users\\PC\\Desktop\\Python\\VCS_SJ_001\n"
     ]
    }
   ],
   "source": [
    "print(os.getcwd())"
   ]
  },
  {
   "cell_type": "markdown",
   "metadata": {},
   "source": [
    "## document write"
   ]
  },
  {
   "cell_type": "code",
   "execution_count": 113,
   "metadata": {},
   "outputs": [],
   "source": [
    "with open('text_write.txt', 'w') as fw:\n",
    "    fw.write('Hello from Python!\\n')\n",
    "    fw.write('Hello again\\n')"
   ]
  },
  {
   "cell_type": "markdown",
   "metadata": {},
   "source": [
    "## JSON"
   ]
  },
  {
   "cell_type": "code",
   "execution_count": 119,
   "metadata": {},
   "outputs": [],
   "source": [
    "import json\n",
    "\n",
    "my_dict = {\n",
    "    'name' : 'Gary',\n",
    "    'age' : 18,\n",
    "    'hobbies' : ['tennis', 'basketball', 'football'],\n",
    "    'has_pet' : False\n",
    "}\n",
    "\n",
    "with open('person.json', 'w') as fw:\n",
    "    json.dump(my_dict, fw)"
   ]
  },
  {
   "cell_type": "code",
   "execution_count": 120,
   "metadata": {},
   "outputs": [
    {
     "name": "stdout",
     "output_type": "stream",
     "text": [
      "{'name': 'Gary', 'age': 18, 'hobbies': ['tennis', 'basketball', 'football'], 'has_pet': False}\n"
     ]
    }
   ],
   "source": [
    "with open('person.json', 'r') as some_file:\n",
    "    person = json.load(some_file)\n",
    "\n",
    "print(person)"
   ]
  },
  {
   "cell_type": "markdown",
   "metadata": {},
   "source": [
    "## yaml"
   ]
  },
  {
   "cell_type": "code",
   "execution_count": 121,
   "metadata": {},
   "outputs": [
    {
     "name": "stdout",
     "output_type": "stream",
     "text": [
      "Collecting pyyaml\n",
      "  Downloading PyYAML-6.0.1-cp310-cp310-win_amd64.whl (145 kB)\n",
      "Installing collected packages: pyyaml\n",
      "Successfully installed pyyaml-6.0.1\n"
     ]
    },
    {
     "name": "stderr",
     "output_type": "stream",
     "text": [
      "WARNING: You are using pip version 21.2.4; however, version 23.3 is available.\n",
      "You should consider upgrading via the 'C:\\Users\\PC\\AppData\\Local\\Programs\\Python\\Python310\\python.exe -m pip install --upgrade pip' command.\n"
     ]
    }
   ],
   "source": [
    "!pip install pyyaml"
   ]
  },
  {
   "cell_type": "code",
   "execution_count": 123,
   "metadata": {},
   "outputs": [],
   "source": [
    "import yaml\n",
    "\n",
    "with open('yaml_example.yaml', 'w') as fw:\n",
    "    yaml.dump(my_dict, fw)"
   ]
  }
 ],
 "metadata": {
  "kernelspec": {
   "display_name": "Python 3",
   "language": "python",
   "name": "python3"
  },
  "language_info": {
   "codemirror_mode": {
    "name": "ipython",
    "version": 3
   },
   "file_extension": ".py",
   "mimetype": "text/x-python",
   "name": "python",
   "nbconvert_exporter": "python",
   "pygments_lexer": "ipython3",
   "version": "3.10.2"
  }
 },
 "nbformat": 4,
 "nbformat_minor": 2
}
