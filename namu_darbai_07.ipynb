{
 "cells": [
  {
   "cell_type": "code",
   "execution_count": 4,
   "metadata": {},
   "outputs": [
    {
     "data": {
      "text/html": [
       "<div>\n",
       "<style scoped>\n",
       "    .dataframe tbody tr th:only-of-type {\n",
       "        vertical-align: middle;\n",
       "    }\n",
       "\n",
       "    .dataframe tbody tr th {\n",
       "        vertical-align: top;\n",
       "    }\n",
       "\n",
       "    .dataframe thead th {\n",
       "        text-align: right;\n",
       "    }\n",
       "</style>\n",
       "<table border=\"1\" class=\"dataframe\">\n",
       "  <thead>\n",
       "    <tr style=\"text-align: right;\">\n",
       "      <th></th>\n",
       "      <th>date</th>\n",
       "      <th>home_team</th>\n",
       "      <th>away_team</th>\n",
       "      <th>home_score</th>\n",
       "      <th>away_score</th>\n",
       "      <th>tourniment</th>\n",
       "      <th>city</th>\n",
       "      <th>country</th>\n",
       "    </tr>\n",
       "  </thead>\n",
       "  <tbody>\n",
       "    <tr>\n",
       "      <th>0</th>\n",
       "      <td>1979-07-20</td>\n",
       "      <td>Kyrgyzstan</td>\n",
       "      <td>Lithuania</td>\n",
       "      <td>0</td>\n",
       "      <td>0</td>\n",
       "      <td>Friendly</td>\n",
       "      <td>Moscow</td>\n",
       "      <td>Soviet Union</td>\n",
       "    </tr>\n",
       "    <tr>\n",
       "      <th>1</th>\n",
       "      <td>1979-07-22</td>\n",
       "      <td>Georgia</td>\n",
       "      <td>Lithuania</td>\n",
       "      <td>5</td>\n",
       "      <td>0</td>\n",
       "      <td>Friendly</td>\n",
       "      <td>Moscow</td>\n",
       "      <td>Soviet Union</td>\n",
       "    </tr>\n",
       "    <tr>\n",
       "      <th>2</th>\n",
       "      <td>1979-07-24</td>\n",
       "      <td>Azerbaijan</td>\n",
       "      <td>Lithuania</td>\n",
       "      <td>0</td>\n",
       "      <td>1</td>\n",
       "      <td>Friendly</td>\n",
       "      <td>Moscow</td>\n",
       "      <td>Soviet Union</td>\n",
       "    </tr>\n",
       "    <tr>\n",
       "      <th>3</th>\n",
       "      <td>1979-07-28</td>\n",
       "      <td>Lithuania</td>\n",
       "      <td>Ukraine</td>\n",
       "      <td>0</td>\n",
       "      <td>2</td>\n",
       "      <td>Friendly</td>\n",
       "      <td>Moscow</td>\n",
       "      <td>Soviet Union</td>\n",
       "    </tr>\n",
       "    <tr>\n",
       "      <th>4</th>\n",
       "      <td>1979-07-30</td>\n",
       "      <td>Russia</td>\n",
       "      <td>Lithuania</td>\n",
       "      <td>2</td>\n",
       "      <td>0</td>\n",
       "      <td>Friendly</td>\n",
       "      <td>Moscow</td>\n",
       "      <td>Soviet Union</td>\n",
       "    </tr>\n",
       "    <tr>\n",
       "      <th>...</th>\n",
       "      <td>...</td>\n",
       "      <td>...</td>\n",
       "      <td>...</td>\n",
       "      <td>...</td>\n",
       "      <td>...</td>\n",
       "      <td>...</td>\n",
       "      <td>...</td>\n",
       "      <td>...</td>\n",
       "    </tr>\n",
       "    <tr>\n",
       "      <th>362</th>\n",
       "      <td>2019-09-10</td>\n",
       "      <td>Lithuania</td>\n",
       "      <td>Portugal</td>\n",
       "      <td>1</td>\n",
       "      <td>5</td>\n",
       "      <td>UEFA Euro qualification</td>\n",
       "      <td>Vilnius</td>\n",
       "      <td>Lithuania</td>\n",
       "    </tr>\n",
       "    <tr>\n",
       "      <th>363</th>\n",
       "      <td>2019-10-11</td>\n",
       "      <td>Ukraine</td>\n",
       "      <td>Lithuania</td>\n",
       "      <td>2</td>\n",
       "      <td>0</td>\n",
       "      <td>UEFA Euro qualification</td>\n",
       "      <td>Kharkiv</td>\n",
       "      <td>Ukraine</td>\n",
       "    </tr>\n",
       "    <tr>\n",
       "      <th>364</th>\n",
       "      <td>2019-10-11</td>\n",
       "      <td>Ukraine</td>\n",
       "      <td>Lithuania</td>\n",
       "      <td>2</td>\n",
       "      <td>0</td>\n",
       "      <td>UEFA Euro qualification</td>\n",
       "      <td>Kharkiv</td>\n",
       "      <td>Ukraine</td>\n",
       "    </tr>\n",
       "    <tr>\n",
       "      <th>365</th>\n",
       "      <td>2019-10-14</td>\n",
       "      <td>Lithuania</td>\n",
       "      <td>Serbia</td>\n",
       "      <td>1</td>\n",
       "      <td>2</td>\n",
       "      <td>UEFA Euro qualification</td>\n",
       "      <td>Vilnius</td>\n",
       "      <td>Lithuania</td>\n",
       "    </tr>\n",
       "    <tr>\n",
       "      <th>366</th>\n",
       "      <td>2019-10-14</td>\n",
       "      <td>Lithuania</td>\n",
       "      <td>Serbia</td>\n",
       "      <td>1</td>\n",
       "      <td>2</td>\n",
       "      <td>UEFA Euro qualification</td>\n",
       "      <td>Vilnius</td>\n",
       "      <td>Lithuania</td>\n",
       "    </tr>\n",
       "  </tbody>\n",
       "</table>\n",
       "<p>367 rows × 8 columns</p>\n",
       "</div>"
      ],
      "text/plain": [
       "           date   home_team  away_team  home_score  away_score  \\\n",
       "0    1979-07-20  Kyrgyzstan  Lithuania           0           0   \n",
       "1    1979-07-22     Georgia  Lithuania           5           0   \n",
       "2    1979-07-24  Azerbaijan  Lithuania           0           1   \n",
       "3    1979-07-28   Lithuania    Ukraine           0           2   \n",
       "4    1979-07-30      Russia  Lithuania           2           0   \n",
       "..          ...         ...        ...         ...         ...   \n",
       "362  2019-09-10   Lithuania   Portugal           1           5   \n",
       "363  2019-10-11     Ukraine  Lithuania           2           0   \n",
       "364  2019-10-11     Ukraine  Lithuania           2           0   \n",
       "365  2019-10-14   Lithuania     Serbia           1           2   \n",
       "366  2019-10-14   Lithuania     Serbia           1           2   \n",
       "\n",
       "                  tourniment     city       country  \n",
       "0                   Friendly   Moscow  Soviet Union  \n",
       "1                   Friendly   Moscow  Soviet Union  \n",
       "2                   Friendly   Moscow  Soviet Union  \n",
       "3                   Friendly   Moscow  Soviet Union  \n",
       "4                   Friendly   Moscow  Soviet Union  \n",
       "..                       ...      ...           ...  \n",
       "362  UEFA Euro qualification  Vilnius     Lithuania  \n",
       "363  UEFA Euro qualification  Kharkiv       Ukraine  \n",
       "364  UEFA Euro qualification  Kharkiv       Ukraine  \n",
       "365  UEFA Euro qualification  Vilnius     Lithuania  \n",
       "366  UEFA Euro qualification  Vilnius     Lithuania  \n",
       "\n",
       "[367 rows x 8 columns]"
      ]
     },
     "execution_count": 4,
     "metadata": {},
     "output_type": "execute_result"
    }
   ],
   "source": [
    "import pandas as pd\n",
    "\n",
    "df_lt = pd.read_csv('LT.csv')\n",
    "df_lt"
   ]
  },
  {
   "cell_type": "markdown",
   "metadata": {},
   "source": [
    "## 1-2. Sukurti naują stulpelį, kuriame būtų paskaičiuota įvarčiu suma / sirtumas"
   ]
  },
  {
   "cell_type": "code",
   "execution_count": 9,
   "metadata": {},
   "outputs": [
    {
     "data": {
      "text/html": [
       "<div>\n",
       "<style scoped>\n",
       "    .dataframe tbody tr th:only-of-type {\n",
       "        vertical-align: middle;\n",
       "    }\n",
       "\n",
       "    .dataframe tbody tr th {\n",
       "        vertical-align: top;\n",
       "    }\n",
       "\n",
       "    .dataframe thead th {\n",
       "        text-align: right;\n",
       "    }\n",
       "</style>\n",
       "<table border=\"1\" class=\"dataframe\">\n",
       "  <thead>\n",
       "    <tr style=\"text-align: right;\">\n",
       "      <th></th>\n",
       "      <th>date</th>\n",
       "      <th>home_team</th>\n",
       "      <th>away_team</th>\n",
       "      <th>home_score</th>\n",
       "      <th>away_score</th>\n",
       "      <th>tourniment</th>\n",
       "      <th>city</th>\n",
       "      <th>country</th>\n",
       "      <th>goal_diff</th>\n",
       "      <th>goal_sum</th>\n",
       "    </tr>\n",
       "  </thead>\n",
       "  <tbody>\n",
       "    <tr>\n",
       "      <th>0</th>\n",
       "      <td>1979-07-20</td>\n",
       "      <td>Kyrgyzstan</td>\n",
       "      <td>Lithuania</td>\n",
       "      <td>0</td>\n",
       "      <td>0</td>\n",
       "      <td>Friendly</td>\n",
       "      <td>Moscow</td>\n",
       "      <td>Soviet Union</td>\n",
       "      <td>0</td>\n",
       "      <td>0</td>\n",
       "    </tr>\n",
       "    <tr>\n",
       "      <th>1</th>\n",
       "      <td>1979-07-22</td>\n",
       "      <td>Georgia</td>\n",
       "      <td>Lithuania</td>\n",
       "      <td>5</td>\n",
       "      <td>0</td>\n",
       "      <td>Friendly</td>\n",
       "      <td>Moscow</td>\n",
       "      <td>Soviet Union</td>\n",
       "      <td>5</td>\n",
       "      <td>5</td>\n",
       "    </tr>\n",
       "    <tr>\n",
       "      <th>2</th>\n",
       "      <td>1979-07-24</td>\n",
       "      <td>Azerbaijan</td>\n",
       "      <td>Lithuania</td>\n",
       "      <td>0</td>\n",
       "      <td>1</td>\n",
       "      <td>Friendly</td>\n",
       "      <td>Moscow</td>\n",
       "      <td>Soviet Union</td>\n",
       "      <td>-1</td>\n",
       "      <td>1</td>\n",
       "    </tr>\n",
       "    <tr>\n",
       "      <th>3</th>\n",
       "      <td>1979-07-28</td>\n",
       "      <td>Lithuania</td>\n",
       "      <td>Ukraine</td>\n",
       "      <td>0</td>\n",
       "      <td>2</td>\n",
       "      <td>Friendly</td>\n",
       "      <td>Moscow</td>\n",
       "      <td>Soviet Union</td>\n",
       "      <td>-2</td>\n",
       "      <td>2</td>\n",
       "    </tr>\n",
       "    <tr>\n",
       "      <th>4</th>\n",
       "      <td>1979-07-30</td>\n",
       "      <td>Russia</td>\n",
       "      <td>Lithuania</td>\n",
       "      <td>2</td>\n",
       "      <td>0</td>\n",
       "      <td>Friendly</td>\n",
       "      <td>Moscow</td>\n",
       "      <td>Soviet Union</td>\n",
       "      <td>2</td>\n",
       "      <td>2</td>\n",
       "    </tr>\n",
       "    <tr>\n",
       "      <th>...</th>\n",
       "      <td>...</td>\n",
       "      <td>...</td>\n",
       "      <td>...</td>\n",
       "      <td>...</td>\n",
       "      <td>...</td>\n",
       "      <td>...</td>\n",
       "      <td>...</td>\n",
       "      <td>...</td>\n",
       "      <td>...</td>\n",
       "      <td>...</td>\n",
       "    </tr>\n",
       "    <tr>\n",
       "      <th>362</th>\n",
       "      <td>2019-09-10</td>\n",
       "      <td>Lithuania</td>\n",
       "      <td>Portugal</td>\n",
       "      <td>1</td>\n",
       "      <td>5</td>\n",
       "      <td>UEFA Euro qualification</td>\n",
       "      <td>Vilnius</td>\n",
       "      <td>Lithuania</td>\n",
       "      <td>-4</td>\n",
       "      <td>6</td>\n",
       "    </tr>\n",
       "    <tr>\n",
       "      <th>363</th>\n",
       "      <td>2019-10-11</td>\n",
       "      <td>Ukraine</td>\n",
       "      <td>Lithuania</td>\n",
       "      <td>2</td>\n",
       "      <td>0</td>\n",
       "      <td>UEFA Euro qualification</td>\n",
       "      <td>Kharkiv</td>\n",
       "      <td>Ukraine</td>\n",
       "      <td>2</td>\n",
       "      <td>2</td>\n",
       "    </tr>\n",
       "    <tr>\n",
       "      <th>364</th>\n",
       "      <td>2019-10-11</td>\n",
       "      <td>Ukraine</td>\n",
       "      <td>Lithuania</td>\n",
       "      <td>2</td>\n",
       "      <td>0</td>\n",
       "      <td>UEFA Euro qualification</td>\n",
       "      <td>Kharkiv</td>\n",
       "      <td>Ukraine</td>\n",
       "      <td>2</td>\n",
       "      <td>2</td>\n",
       "    </tr>\n",
       "    <tr>\n",
       "      <th>365</th>\n",
       "      <td>2019-10-14</td>\n",
       "      <td>Lithuania</td>\n",
       "      <td>Serbia</td>\n",
       "      <td>1</td>\n",
       "      <td>2</td>\n",
       "      <td>UEFA Euro qualification</td>\n",
       "      <td>Vilnius</td>\n",
       "      <td>Lithuania</td>\n",
       "      <td>-1</td>\n",
       "      <td>3</td>\n",
       "    </tr>\n",
       "    <tr>\n",
       "      <th>366</th>\n",
       "      <td>2019-10-14</td>\n",
       "      <td>Lithuania</td>\n",
       "      <td>Serbia</td>\n",
       "      <td>1</td>\n",
       "      <td>2</td>\n",
       "      <td>UEFA Euro qualification</td>\n",
       "      <td>Vilnius</td>\n",
       "      <td>Lithuania</td>\n",
       "      <td>-1</td>\n",
       "      <td>3</td>\n",
       "    </tr>\n",
       "  </tbody>\n",
       "</table>\n",
       "<p>367 rows × 10 columns</p>\n",
       "</div>"
      ],
      "text/plain": [
       "           date   home_team  away_team  home_score  away_score  \\\n",
       "0    1979-07-20  Kyrgyzstan  Lithuania           0           0   \n",
       "1    1979-07-22     Georgia  Lithuania           5           0   \n",
       "2    1979-07-24  Azerbaijan  Lithuania           0           1   \n",
       "3    1979-07-28   Lithuania    Ukraine           0           2   \n",
       "4    1979-07-30      Russia  Lithuania           2           0   \n",
       "..          ...         ...        ...         ...         ...   \n",
       "362  2019-09-10   Lithuania   Portugal           1           5   \n",
       "363  2019-10-11     Ukraine  Lithuania           2           0   \n",
       "364  2019-10-11     Ukraine  Lithuania           2           0   \n",
       "365  2019-10-14   Lithuania     Serbia           1           2   \n",
       "366  2019-10-14   Lithuania     Serbia           1           2   \n",
       "\n",
       "                  tourniment     city       country  goal_diff  goal_sum  \n",
       "0                   Friendly   Moscow  Soviet Union          0         0  \n",
       "1                   Friendly   Moscow  Soviet Union          5         5  \n",
       "2                   Friendly   Moscow  Soviet Union         -1         1  \n",
       "3                   Friendly   Moscow  Soviet Union         -2         2  \n",
       "4                   Friendly   Moscow  Soviet Union          2         2  \n",
       "..                       ...      ...           ...        ...       ...  \n",
       "362  UEFA Euro qualification  Vilnius     Lithuania         -4         6  \n",
       "363  UEFA Euro qualification  Kharkiv       Ukraine          2         2  \n",
       "364  UEFA Euro qualification  Kharkiv       Ukraine          2         2  \n",
       "365  UEFA Euro qualification  Vilnius     Lithuania         -1         3  \n",
       "366  UEFA Euro qualification  Vilnius     Lithuania         -1         3  \n",
       "\n",
       "[367 rows x 10 columns]"
      ]
     },
     "execution_count": 9,
     "metadata": {},
     "output_type": "execute_result"
    }
   ],
   "source": [
    "df_lt['goal_sum'] = df_lt['home_score'] + df_lt['away_score']\n",
    "df_lt['goal_diff'] = df_lt['home_score'] - df_lt['away_score']\n",
    "df_lt"
   ]
  },
  {
   "cell_type": "markdown",
   "metadata": {},
   "source": [
    "## 3. Kiek rungtynių baigėsi lygiosiomis?"
   ]
  },
  {
   "cell_type": "code",
   "execution_count": 118,
   "metadata": {},
   "outputs": [
    {
     "data": {
      "text/plain": [
       "73"
      ]
     },
     "execution_count": 118,
     "metadata": {},
     "output_type": "execute_result"
    }
   ],
   "source": [
    "len(df_lt[(df_lt['goal_diff'] == 0)])"
   ]
  },
  {
   "cell_type": "markdown",
   "metadata": {},
   "source": [
    "## 4. Kokiai šaliai pralošėme didžiausiu  ivarčių skirtumu, žasidami namuose, kada tai įvyko, kokiame mieste vyko rungtynės?"
   ]
  },
  {
   "cell_type": "code",
   "execution_count": 11,
   "metadata": {},
   "outputs": [],
   "source": [
    "df_lt['date'] = pd.to_datetime(df_lt['date'])"
   ]
  },
  {
   "cell_type": "code",
   "execution_count": 170,
   "metadata": {},
   "outputs": [
    {
     "data": {
      "text/html": [
       "<div>\n",
       "<style scoped>\n",
       "    .dataframe tbody tr th:only-of-type {\n",
       "        vertical-align: middle;\n",
       "    }\n",
       "\n",
       "    .dataframe tbody tr th {\n",
       "        vertical-align: top;\n",
       "    }\n",
       "\n",
       "    .dataframe thead th {\n",
       "        text-align: right;\n",
       "    }\n",
       "</style>\n",
       "<table border=\"1\" class=\"dataframe\">\n",
       "  <thead>\n",
       "    <tr style=\"text-align: right;\">\n",
       "      <th></th>\n",
       "      <th>date</th>\n",
       "      <th>away_team</th>\n",
       "      <th>city</th>\n",
       "      <th>goal_diff</th>\n",
       "    </tr>\n",
       "  </thead>\n",
       "  <tbody>\n",
       "    <tr>\n",
       "      <th>108</th>\n",
       "      <td>2000-10-11</td>\n",
       "      <td>Hungary</td>\n",
       "      <td>Kaunas</td>\n",
       "      <td>-5</td>\n",
       "    </tr>\n",
       "  </tbody>\n",
       "</table>\n",
       "</div>"
      ],
      "text/plain": [
       "          date away_team    city  goal_diff\n",
       "108 2000-10-11   Hungary  Kaunas         -5"
      ]
     },
     "execution_count": 170,
     "metadata": {},
     "output_type": "execute_result"
    }
   ],
   "source": [
    "wanted_col = ['date', 'away_team', 'city', 'goal_diff']\n",
    "df_lt_loss_h = df_lt[(df_lt['home_team'] == 'Lithuania') & (df_lt['home_score'] < (df_lt['away_score']))]\n",
    "df_sorted = df_lt_loss_h.sort_values(by = \"goal_diff\")\n",
    "df_sorted[wanted_col][:1]\n"
   ]
  },
  {
   "cell_type": "markdown",
   "metadata": {},
   "source": [
    "## 5. Kiek rungtynių Lietuva pralaimėjo žaisdama svetur?\n"
   ]
  },
  {
   "cell_type": "code",
   "execution_count": 113,
   "metadata": {},
   "outputs": [
    {
     "name": "stdout",
     "output_type": "stream",
     "text": [
      "138\n"
     ]
    }
   ],
   "source": [
    "print(len(df_lt[(df_lt['away_team'] == 'Lithuania') & (df_lt['country'] != 'Lithuania') & (df_lt['away_score'] < (df_lt['home_score']))]))\n"
   ]
  },
  {
   "cell_type": "markdown",
   "metadata": {},
   "source": [
    "## 6. Kiek rungtynių Lietuva laimėjo žaisdama svetur?\n"
   ]
  },
  {
   "cell_type": "code",
   "execution_count": 114,
   "metadata": {},
   "outputs": [
    {
     "name": "stdout",
     "output_type": "stream",
     "text": [
      "39\n"
     ]
    }
   ],
   "source": [
    "print(len(df_lt[(df_lt['away_team'] == 'Lithuania') & (df_lt['country'] != 'Lithuania') & (df_lt['away_score'] > (df_lt['home_score']))]))"
   ]
  },
  {
   "cell_type": "markdown",
   "metadata": {},
   "source": [
    "## 7. Kiek rungtynių Lietuva laimėjo žaisdama Lietuvoje?"
   ]
  },
  {
   "cell_type": "code",
   "execution_count": 115,
   "metadata": {},
   "outputs": [
    {
     "name": "stdout",
     "output_type": "stream",
     "text": [
      "47\n"
     ]
    }
   ],
   "source": [
    "print(len(df_lt[(df_lt['home_team'] == 'Lithuania') & (df_lt['country'] == 'Lithuania') & (df_lt['home_score'] > (df_lt['away_score']))]))"
   ]
  },
  {
   "cell_type": "markdown",
   "metadata": {},
   "source": [
    "## 8. Kiek rungtynių Lietuva praleimėjo žaisdama Lietuvoje?\n"
   ]
  },
  {
   "cell_type": "code",
   "execution_count": 116,
   "metadata": {},
   "outputs": [
    {
     "name": "stdout",
     "output_type": "stream",
     "text": [
      "60\n"
     ]
    }
   ],
   "source": [
    "print(len(df_lt[(df_lt['home_team'] == 'Lithuania') & (df_lt['country'] == 'Lithuania') & (df_lt['home_score'] < (df_lt['away_score']))]))"
   ]
  },
  {
   "cell_type": "markdown",
   "metadata": {},
   "source": [
    "## 9. Kiek rungtynių Lietuviai sužaidė lygiosiomis namuose?\n"
   ]
  },
  {
   "cell_type": "code",
   "execution_count": 117,
   "metadata": {},
   "outputs": [
    {
     "name": "stdout",
     "output_type": "stream",
     "text": [
      "24\n"
     ]
    }
   ],
   "source": [
    "print(len(df_lt[(df_lt['home_team'] == 'Lithuania') & (df_lt['country'] == 'Lithuania') & (df_lt['home_score'] == (df_lt['away_score']))]))"
   ]
  },
  {
   "cell_type": "markdown",
   "metadata": {},
   "source": [
    "## 10. Kiek rungtynių Lietuviai sužaidė lygiosiomis išvykoje?\n"
   ]
  },
  {
   "cell_type": "code",
   "execution_count": 119,
   "metadata": {},
   "outputs": [
    {
     "name": "stdout",
     "output_type": "stream",
     "text": [
      "42\n"
     ]
    }
   ],
   "source": [
    "print(len(df_lt[(df_lt['away_team'] == 'Lithuania') & (df_lt['country'] != 'Lithuania') & (df_lt['home_score'] == (df_lt['away_score']))]))"
   ]
  }
 ],
 "metadata": {
  "kernelspec": {
   "display_name": "Python 3",
   "language": "python",
   "name": "python3"
  },
  "language_info": {
   "codemirror_mode": {
    "name": "ipython",
    "version": 3
   },
   "file_extension": ".py",
   "mimetype": "text/x-python",
   "name": "python",
   "nbconvert_exporter": "python",
   "pygments_lexer": "ipython3",
   "version": "3.9.6"
  }
 },
 "nbformat": 4,
 "nbformat_minor": 2
}
