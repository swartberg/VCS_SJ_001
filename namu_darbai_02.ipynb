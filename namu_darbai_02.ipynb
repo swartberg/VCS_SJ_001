{
 "cells": [
  {
   "cell_type": "markdown",
   "metadata": {},
   "source": [
    "# namu_darbai_02"
   ]
  },
  {
   "cell_type": "markdown",
   "metadata": {},
   "source": [
    "## uzduotis 1"
   ]
  },
  {
   "cell_type": "code",
   "execution_count": 2,
   "metadata": {},
   "outputs": [
    {
     "name": "stdout",
     "output_type": "stream",
     "text": [
      "0.34615384615384615\n"
     ]
    }
   ],
   "source": [
    "# 1. Surasti didžiausią reikšmę esančia sąraše. Gautą reikšmę padalinti iš sąrašo narių sumos ir atspausdinti.\n",
    "\n",
    "numbers = [3, 7, 1, 9, 4, 2]\n",
    "print(max(numbers) / sum(numbers))"
   ]
  },
  {
   "cell_type": "markdown",
   "metadata": {},
   "source": [
    "## uzduotis 2"
   ]
  },
  {
   "cell_type": "code",
   "execution_count": 5,
   "metadata": {},
   "outputs": [
    {
     "name": "stdout",
     "output_type": "stream",
     "text": [
      "['apple', 'banana', 'orange', 'grapes', 'pineapple', 'pear']\n",
      "Fruit is in the list\n"
     ]
    }
   ],
   "source": [
    "# 2. Turite sąrašą `fruits`, kuriame yra turimi vaisiai. Leisti vartotojui nurodyti norimą vaisių (naudoti input() ) ir atspausdinti ar vaisius yra sąraše.\n",
    "\n",
    "fruits = ['apple', 'banana', 'orange', 'grapes', 'pineapple',]\n",
    "\n",
    "enter_fruit = input('Enter fruit')\n",
    "# fruits.append(enter_fruit) \n",
    "print(fruits)\n",
    "\n",
    "is_true = 'Fruit is in the list'\n",
    "not_true = 'Fruit is not in the list'\n",
    "\n",
    "if enter_fruit in fruits:\n",
    "    print(is_true)\n",
    "else:\n",
    "    print(not_true)"
   ]
  },
  {
   "cell_type": "markdown",
   "metadata": {},
   "source": [
    "## uzduotis 3"
   ]
  },
  {
   "cell_type": "code",
   "execution_count": 13,
   "metadata": {},
   "outputs": [
    {
     "name": "stdout",
     "output_type": "stream",
     "text": [
      "Selected numbers: [84, 11]\n",
      "Numbers: 2\n",
      "Sum: 95\n",
      "Avg: 47.5\n",
      "Min: 11\n",
      "Max: 84\n"
     ]
    }
   ],
   "source": [
    "# 3. Paklauskite vartotojo, kiek skaičių (1-100) nori panaudoti skaičiavimams. Iš `list_1` paimti vartotojo nurodytą skaičių kiekį (naudoti *slicing*) ir išsaugoti `selected_numbers` kintamajame. Paskaičiuoti ir atspausdinti `selected_numbers` sumą, vidutinę, minimalią ir maksimalią vertę\n",
    "\n",
    "list_1 = [11, 23, 97, 10, 55, 46, 16, 72, 3, 72, 17, 29, 21, 48, 50, 4, 73, 44, 18, 30, 53, 95, 15, 69, 86, 39, 6, 89, 89, 2, 26, 54, 27, 39, 3, 69, 21, 62, 99, 11, 49, 58, 78, 53, 46, 50, 39, 100, 77, 41, 7, 10, 53, 33, 74, 78, 20, 41, 65, 9, 84, 11, 90, 65, 43, 78, 15, 49, 87, 48, 84, 31, 17, 17, 60, 47, 71, 7, 23, 56, 74, 45, 74, 17, 27, 52, 80, 26, 93, 14, 76, 28, 99, 3, 61, 67, 71, 24, 77, 74]\n",
    "\n",
    "import random\n",
    "\n",
    "selected_numbers = []\n",
    "num_numbers = int(input('Enter number between 1 and 100'))\n",
    "for i in range(num_numbers):\n",
    "    if num_numbers < 1 or num_numbers > 100:\n",
    "        break\n",
    "    else:\n",
    "        sel_number = random.choice(list_1)\n",
    "        selected_numbers.append(sel_number)\n",
    "\n",
    "if int(len(selected_numbers)) > 0:\n",
    "    print('Selected numbers:', selected_numbers)\n",
    "    print('Numbers:', len(selected_numbers))\n",
    "    print('Sum:', sum(selected_numbers))\n",
    "    print('Avg:', sum(selected_numbers) / len(selected_numbers))\n",
    "    print('Min:', min(selected_numbers))\n",
    "    print('Max:', max(selected_numbers))\n",
    "else:\n",
    "    print('Selected numbers:', selected_numbers)\n",
    "    print('Numbers:', len(selected_numbers))\n",
    "\n",
    "    "
   ]
  }
 ],
 "metadata": {
  "kernelspec": {
   "display_name": "Python 3",
   "language": "python",
   "name": "python3"
  },
  "language_info": {
   "codemirror_mode": {
    "name": "ipython",
    "version": 3
   },
   "file_extension": ".py",
   "mimetype": "text/x-python",
   "name": "python",
   "nbconvert_exporter": "python",
   "pygments_lexer": "ipython3",
   "version": "3.11.5"
  },
  "orig_nbformat": 4
 },
 "nbformat": 4,
 "nbformat_minor": 2
}
