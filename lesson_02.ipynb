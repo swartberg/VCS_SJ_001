{
 "cells": [
  {
   "cell_type": "markdown",
   "metadata": {},
   "source": [
    "# Variable names"
   ]
  },
  {
   "cell_type": "code",
   "execution_count": 2,
   "metadata": {},
   "outputs": [
    {
     "ename": "SyntaxError",
     "evalue": "invalid syntax (2177017340.py, line 3)",
     "output_type": "error",
     "traceback": [
      "\u001b[1;36m  Cell \u001b[1;32mIn[2], line 3\u001b[1;36m\u001b[0m\n\u001b[1;33m    &number = 2\u001b[0m\n\u001b[1;37m    ^\u001b[0m\n\u001b[1;31mSyntaxError\u001b[0m\u001b[1;31m:\u001b[0m invalid syntax\n"
     ]
    }
   ],
   "source": [
    "# variables can't start with a number, special symbols\n",
    "# 2nd_number = 10\n",
    "# &number = 2"
   ]
  },
  {
   "cell_type": "code",
   "execution_count": 1,
   "metadata": {},
   "outputs": [
    {
     "data": {
      "text/plain": [
       "5"
      ]
     },
     "execution_count": 1,
     "metadata": {},
     "output_type": "execute_result"
    }
   ],
   "source": [
    "name_0 = \"Simas\"\n",
    "len(name_0)"
   ]
  },
  {
   "cell_type": "code",
   "execution_count": 6,
   "metadata": {},
   "outputs": [
    {
     "ename": "TypeError",
     "evalue": "'int' object is not callable",
     "output_type": "error",
     "traceback": [
      "\u001b[1;31m---------------------------------------------------------------------------\u001b[0m",
      "\u001b[1;31mTypeError\u001b[0m                                 Traceback (most recent call last)",
      "\u001b[1;32mc:\\Users\\PC\\Desktop\\Python\\VCS_SJ_001\\lesson_02.ipynb Cell 4\u001b[0m line \u001b[0;36m2\n\u001b[0;32m      <a href='vscode-notebook-cell:/c%3A/Users/PC/Desktop/Python/VCS_SJ_001/lesson_02.ipynb#W4sZmlsZQ%3D%3D?line=0'>1</a>\u001b[0m \u001b[39mlen\u001b[39m \u001b[39m=\u001b[39m \u001b[39m10\u001b[39m\n\u001b[1;32m----> <a href='vscode-notebook-cell:/c%3A/Users/PC/Desktop/Python/VCS_SJ_001/lesson_02.ipynb#W4sZmlsZQ%3D%3D?line=1'>2</a>\u001b[0m \u001b[39mlen\u001b[39;49m(name_0)\n",
      "\u001b[1;31mTypeError\u001b[0m: 'int' object is not callable"
     ]
    }
   ],
   "source": [
    "# variable names can't be functions, reserved names\n",
    "# len = 10\n",
    "# len(name_0)"
   ]
  },
  {
   "cell_type": "code",
   "execution_count": 3,
   "metadata": {},
   "outputs": [
    {
     "name": "stdout",
     "output_type": "stream",
     "text": [
      "5\n"
     ]
    }
   ],
   "source": [
    "# all-caps variables are constant and should not be changed later\n",
    "MY_CONSTANT = 5\n",
    "print(MY_CONSTANT)"
   ]
  },
  {
   "cell_type": "code",
   "execution_count": 4,
   "metadata": {},
   "outputs": [
    {
     "data": {
      "text/plain": [
       "5"
      ]
     },
     "execution_count": 4,
     "metadata": {},
     "output_type": "execute_result"
    }
   ],
   "source": [
    "len('ilgis')"
   ]
  },
  {
   "cell_type": "code",
   "execution_count": 8,
   "metadata": {},
   "outputs": [
    {
     "name": "stdout",
     "output_type": "stream",
     "text": [
      "SIMAS\n"
     ]
    }
   ],
   "source": [
    "name = 'Simas'\n",
    "name.upper()\n",
    "name.lower()\n",
    "print(name.upper())"
   ]
  },
  {
   "cell_type": "code",
   "execution_count": 10,
   "metadata": {},
   "outputs": [
    {
     "data": {
      "text/plain": [
       "'today is a sunny day'"
      ]
     },
     "execution_count": 10,
     "metadata": {},
     "output_type": "execute_result"
    }
   ],
   "source": [
    "text = 'today is a beautiful day'\n",
    "text.replace('beautiful', 'sunny')"
   ]
  },
  {
   "cell_type": "code",
   "execution_count": 25,
   "metadata": {},
   "outputs": [
    {
     "name": "stdout",
     "output_type": "stream",
     "text": [
      "17\n",
      "ful\n"
     ]
    }
   ],
   "source": [
    "print(text.find('ful'))\n",
    "print(text[text.find('ful'): text.find('ful') + len('ful')])"
   ]
  },
  {
   "cell_type": "code",
   "execution_count": 24,
   "metadata": {},
   "outputs": [
    {
     "name": "stdout",
     "output_type": "stream",
     "text": [
      "iful\n"
     ]
    }
   ],
   "source": [
    "text = 'today is a beautiful day'\n",
    "word_to_find = 'iful'\n",
    "print(text[text.find(word_to_find): text.find(word_to_find) + len(word_to_find)])"
   ]
  },
  {
   "cell_type": "markdown",
   "metadata": {},
   "source": [
    "# Užduotys"
   ]
  },
  {
   "cell_type": "code",
   "execution_count": 27,
   "metadata": {},
   "outputs": [
    {
     "name": "stdout",
     "output_type": "stream",
     "text": [
      "Simas Juodikaitis\n"
     ]
    }
   ],
   "source": [
    "name = 'Vardas'\n",
    "lastname = \"Pavarde\"\n",
    "print (name + ' ' + lastname)"
   ]
  },
  {
   "cell_type": "code",
   "execution_count": 30,
   "metadata": {},
   "outputs": [
    {
     "name": "stdout",
     "output_type": "stream",
     "text": [
      "PYTHON MAKES ME REALLY HAPPY!\n",
      "PyThOn makes me really happy!\n"
     ]
    }
   ],
   "source": [
    "string_01 = 'Python makes me really happy!'\n",
    "print(string_01.upper())\n",
    "print(string_01.replace('Python', 'PyThOn'))"
   ]
  },
  {
   "cell_type": "code",
   "execution_count": 53,
   "metadata": {},
   "outputs": [
    {
     "name": "stdout",
     "output_type": "stream",
     "text": [
      "happy\n",
      "18\n",
      "5\n",
      "to\n",
      "40\n"
     ]
    }
   ],
   "source": [
    "uzd_3 = 'Hello World, I am happy to learn Python!'\n",
    "print(uzd_3[18:23])\n",
    "print(uzd_3.index('happy'))\n",
    "print(len(uzd_3[18:23]))\n",
    "# uzd_3.find('to')\n",
    "print(uzd_3[24:26])\n",
    "print(len(uzd_3))"
   ]
  },
  {
   "cell_type": "markdown",
   "metadata": {},
   "source": [
    "# ----"
   ]
  },
  {
   "cell_type": "code",
   "execution_count": 58,
   "metadata": {},
   "outputs": [
    {
     "name": "stdout",
     "output_type": "stream",
     "text": [
      "False\n",
      "False\n",
      "True\n",
      "True\n"
     ]
    }
   ],
   "source": [
    "print('word'.isdigit()) # false\n",
    "print('w0rd'.isdigit()) # false\n",
    "print('00'.isdigit()) # true -- .strip() removes spaces\n",
    "print('00 '.strip().isdigit()) # true"
   ]
  },
  {
   "cell_type": "markdown",
   "metadata": {},
   "source": [
    "# f-string"
   ]
  },
  {
   "cell_type": "code",
   "execution_count": 68,
   "metadata": {},
   "outputs": [
    {
     "name": "stdout",
     "output_type": "stream",
     "text": [
      "Hi, Vardas, it is nice to meet you. It is a rainy day\n",
      "Hi, Vardas, it is nice to meet you. It is a rainy day\n",
      "Hi, Vardas, it is nice to meet you. It is a rainy day. It is 24 degrees outside\n",
      "Hi, Vardas, it is nice to meet you. It is a rainy day\n"
     ]
    }
   ],
   "source": [
    "name = 'Vardas'\n",
    "lastname = 'Pavarde'\n",
    "weather = 'rainy'\n",
    "degrees = 24\n",
    "\n",
    "print('Hi, Vardas, it is nice to meet you. It is a rainy day')\n",
    "print('Hi, ' + name + ', it is nice to meet you. It is a ' + weather + ' day')\n",
    "\n",
    "# f-string\n",
    "print(f'Hi, {name}, it is nice to meet you. It is a {weather} day. It is {degrees} degrees outside')\n",
    "# old f-string\n",
    "print('Hi, {}, it is nice to meet you. It is a {} day'.format(name, weather))"
   ]
  },
  {
   "cell_type": "code",
   "execution_count": 70,
   "metadata": {},
   "outputs": [
    {
     "name": "stdout",
     "output_type": "stream",
     "text": [
      "Vardas_Pavarde\n"
     ]
    }
   ],
   "source": [
    "print(name, lastname, sep='_')"
   ]
  },
  {
   "cell_type": "markdown",
   "metadata": {},
   "source": [
    "# string operations"
   ]
  },
  {
   "cell_type": "code",
   "execution_count": 72,
   "metadata": {},
   "outputs": [
    {
     "data": {
      "text/plain": [
       "'hello world'"
      ]
     },
     "execution_count": 72,
     "metadata": {},
     "output_type": "execute_result"
    }
   ],
   "source": [
    "'hello ' + 'world'\n",
    "# substraction is not avaliable\n",
    "# 'hello ' - 'i'"
   ]
  },
  {
   "cell_type": "code",
   "execution_count": 76,
   "metadata": {},
   "outputs": [
    {
     "data": {
      "text/plain": [
       "'hi hi hi hi hi hi hi hi hi hi '"
      ]
     },
     "execution_count": 76,
     "metadata": {},
     "output_type": "execute_result"
    }
   ],
   "source": [
    "'hi ' * 10\n",
    "# division doesnt work\n",
    "# 'hi ' / 10"
   ]
  },
  {
   "cell_type": "code",
   "execution_count": 79,
   "metadata": {},
   "outputs": [
    {
     "name": "stdout",
     "output_type": "stream",
     "text": [
      "<class 'str'>\n"
     ]
    }
   ],
   "source": [
    "print(type(name))"
   ]
  },
  {
   "cell_type": "markdown",
   "metadata": {},
   "source": [
    "# numbers"
   ]
  },
  {
   "cell_type": "code",
   "execution_count": 83,
   "metadata": {},
   "outputs": [
    {
     "name": "stdout",
     "output_type": "stream",
     "text": [
      "<class 'int'>\n",
      "<class 'float'>\n"
     ]
    }
   ],
   "source": [
    "number = 153\n",
    "float_number = 153.\n",
    "float_number_2 = 153.42\n",
    "\n",
    "print(type(number))\n",
    "print(type(float_number))"
   ]
  },
  {
   "cell_type": "markdown",
   "metadata": {},
   "source": [
    "## operations"
   ]
  },
  {
   "cell_type": "code",
   "execution_count": 90,
   "metadata": {},
   "outputs": [
    {
     "name": "stdout",
     "output_type": "stream",
     "text": [
      "306.0 yra <class 'float'>\n",
      "10 - 5 = 5\n",
      "10 * 5 = 50\n",
      "10 / 5 = 2.0\n",
      "13 // 5 = 2\n",
      "18 // 5 = 3\n",
      "18 % 5 = 3\n",
      "2 ** 5 = 32\n"
     ]
    }
   ],
   "source": [
    "suma = number + float_number\n",
    "print(f'{suma} yra {type(suma)}')\n",
    "\n",
    "print(f'10 - 5 = {10 - 5}')\n",
    "print(f'10 * 5 = {10 * 5}')\n",
    "print(f'10 / 5 = {10 / 5}')\n",
    "print(f'13 // 5 = {13 // 5}') # pilnoji dalis\n",
    "print(f'18 // 5 = {18 // 5}') # pilnoji dalis\n",
    "print(f'18 % 5 = {18 % 5}') # liekana\n",
    "print(f'2 ** 5 = {2 ** 5}') # kelimas laipsniu"
   ]
  },
  {
   "cell_type": "code",
   "execution_count": 97,
   "metadata": {},
   "outputs": [
    {
     "name": "stdout",
     "output_type": "stream",
     "text": [
      "2\n",
      "1\n",
      "3\n",
      "1.0\n"
     ]
    }
   ],
   "source": [
    "c = 0\n",
    "c = c + 1\n",
    "c += 1\n",
    "print(c)\n",
    "c -= 1\n",
    "print(c)\n",
    "c *= 3\n",
    "print(c)\n",
    "c /= 3\n",
    "print(c)"
   ]
  },
  {
   "cell_type": "code",
   "execution_count": 100,
   "metadata": {},
   "outputs": [
    {
     "name": "stdout",
     "output_type": "stream",
     "text": [
      "1000000\n",
      "1000000\n"
     ]
    },
    {
     "data": {
      "text/plain": [
       "True"
      ]
     },
     "execution_count": 100,
     "metadata": {},
     "output_type": "execute_result"
    }
   ],
   "source": [
    "big_number = 1_000_000\n",
    "big_number_2 = 1000000\n",
    "print(big_number)\n",
    "print(big_number_2)\n",
    "big_number == big_number_2"
   ]
  },
  {
   "cell_type": "markdown",
   "metadata": {},
   "source": [
    "## uzduotys"
   ]
  },
  {
   "cell_type": "code",
   "execution_count": 101,
   "metadata": {},
   "outputs": [
    {
     "name": "stdout",
     "output_type": "stream",
     "text": [
      "47 33 280 5 5.714285714285714\n"
     ]
    }
   ],
   "source": [
    "pirmas = 40\n",
    "antras = 7\n",
    "suma = pirmas + antras\n",
    "skirtumas = pirmas - antras\n",
    "sandauga = pirmas * antras\n",
    "liekana = pirmas % antras\n",
    "dalyba = pirmas / antras\n",
    "\n",
    "print(suma, skirtumas, sandauga, liekana, dalyba)"
   ]
  },
  {
   "cell_type": "code",
   "execution_count": 102,
   "metadata": {},
   "outputs": [
    {
     "name": "stdout",
     "output_type": "stream",
     "text": [
      "10.341000000000001 -3.341 23.9435 3.5 0.5116211080251425\n"
     ]
    }
   ],
   "source": [
    "pirmas_fl = 3.5\n",
    "antras_fl = 6.841\n",
    "suma_fl = pirmas_fl + antras_fl\n",
    "skirtumas_fl = pirmas_fl - antras_fl\n",
    "sandauga_fl = pirmas_fl * antras_fl\n",
    "liekana_fl = pirmas_fl % antras_fl\n",
    "dalyba_fl = pirmas_fl / antras_fl\n",
    "\n",
    "print(suma_fl, skirtumas_fl, sandauga_fl, liekana_fl, dalyba_fl)"
   ]
  },
  {
   "cell_type": "code",
   "execution_count": 115,
   "metadata": {},
   "outputs": [
    {
     "name": "stdout",
     "output_type": "stream",
     "text": [
      "390.625\n",
      "2560.0\n",
      "7.013698630136986\n",
      "84.16438356164383\n",
      "9216000.0\n"
     ]
    }
   ],
   "source": [
    "saule = 150_000_000\n",
    "menulis = 384_000\n",
    "atstumas = saule / menulis\n",
    "print(atstumas)\n",
    "\n",
    "greitis = 150\n",
    "valandos = menulis / greitis\n",
    "print(valandos)\n",
    "\n",
    "metai = valandos / 365\n",
    "print(metai)\n",
    "\n",
    "menesiai = metai * 12\n",
    "print(menesiai)\n",
    "\n",
    "sekundes = valandos * 3600\n",
    "print(sekundes)\n"
   ]
  },
  {
   "cell_type": "code",
   "execution_count": 116,
   "metadata": {},
   "outputs": [
    {
     "data": {
      "text/plain": [
       "9855"
      ]
     },
     "execution_count": 116,
     "metadata": {},
     "output_type": "execute_result"
    }
   ],
   "source": [
    "365 * 27"
   ]
  },
  {
   "cell_type": "code",
   "execution_count": 122,
   "metadata": {},
   "outputs": [
    {
     "name": "stdout",
     "output_type": "stream",
     "text": [
      "1996-05-18 00:00:00\n",
      "2023-09-28 21:08:23.725670\n",
      "9994 days, 21:08:23.725670\n",
      "9994\n"
     ]
    }
   ],
   "source": [
    "from datetime import datetime, date, time\n",
    "birthday = datetime(1996,5,18)\n",
    "print(birthday)\n",
    "now = datetime.now()\n",
    "print(now)\n",
    "time_passed = now - birthday\n",
    "print(time_passed)\n",
    "print(time_passed.days)"
   ]
  },
  {
   "cell_type": "markdown",
   "metadata": {},
   "source": [
    "## ----"
   ]
  },
  {
   "cell_type": "markdown",
   "metadata": {},
   "source": [
    "# boolean (bool)"
   ]
  },
  {
   "cell_type": "code",
   "execution_count": 124,
   "metadata": {},
   "outputs": [
    {
     "name": "stdout",
     "output_type": "stream",
     "text": [
      "True\n",
      "<class 'bool'>\n"
     ]
    }
   ],
   "source": [
    "bool_1 = True\n",
    "print(bool_1)\n",
    "print(type(bool_1))"
   ]
  },
  {
   "cell_type": "code",
   "execution_count": null,
   "metadata": {},
   "outputs": [],
   "source": [
    "bool_2 = False"
   ]
  },
  {
   "cell_type": "code",
   "execution_count": 129,
   "metadata": {},
   "outputs": [
    {
     "name": "stdout",
     "output_type": "stream",
     "text": [
      "True\n",
      "True\n",
      "True\n",
      "True\n",
      "False\n"
     ]
    }
   ],
   "source": [
    "number = 1\n",
    "print(bool(number))\n",
    "print(bool(100))\n",
    "print(bool(0.1))\n",
    "print(bool(-2))\n",
    "print(bool(0)) # vienintelis False"
   ]
  },
  {
   "cell_type": "code",
   "execution_count": 134,
   "metadata": {},
   "outputs": [
    {
     "name": "stdout",
     "output_type": "stream",
     "text": [
      "True\n",
      "True\n",
      "True\n",
      "False\n"
     ]
    }
   ],
   "source": [
    "print(bool('number'))\n",
    "print(bool(' '))\n",
    "print(bool('0'))\n",
    "print(bool('')) # vienintelis false"
   ]
  },
  {
   "cell_type": "code",
   "execution_count": 138,
   "metadata": {},
   "outputs": [
    {
     "name": "stdout",
     "output_type": "stream",
     "text": [
      "False\n",
      "True\n",
      "False\n",
      "True\n",
      "True\n",
      "False\n",
      "True\n"
     ]
    }
   ],
   "source": [
    "print( 2 > 5)\n",
    "print( 2 < 5)\n",
    "print( 5 > 5)\n",
    "print( 5 >= 5)\n",
    "print( 5 == 5)\n",
    "print( 5 != 5)\n",
    "print( 2 != 5)"
   ]
  },
  {
   "cell_type": "code",
   "execution_count": 140,
   "metadata": {},
   "outputs": [
    {
     "name": "stdout",
     "output_type": "stream",
     "text": [
      "False\n",
      "True\n"
     ]
    }
   ],
   "source": [
    "text = 'Hello World'\n",
    "print('w' in text)\n",
    "print('World' in text)"
   ]
  },
  {
   "cell_type": "code",
   "execution_count": 142,
   "metadata": {},
   "outputs": [
    {
     "name": "stdout",
     "output_type": "stream",
     "text": [
      "True\n",
      "True\n"
     ]
    }
   ],
   "source": [
    "print(True == bool(0.9))\n",
    "print(False == 0)"
   ]
  },
  {
   "cell_type": "code",
   "execution_count": 143,
   "metadata": {},
   "outputs": [
    {
     "name": "stdout",
     "output_type": "stream",
     "text": [
      "False\n"
     ]
    }
   ],
   "source": [
    "print(not True)"
   ]
  },
  {
   "cell_type": "code",
   "execution_count": 148,
   "metadata": {},
   "outputs": [
    {
     "name": "stdout",
     "output_type": "stream",
     "text": [
      "and\n",
      "True\n",
      "False\n",
      "True\n"
     ]
    }
   ],
   "source": [
    "print('and')\n",
    "print(20 > 10 and 5 > 1)\n",
    "print(20 > 10 and 5 > 10)\n",
    "print(20 > 10 or 5 > 10)"
   ]
  },
  {
   "cell_type": "markdown",
   "metadata": {},
   "source": [
    "## uzduotys"
   ]
  },
  {
   "cell_type": "code",
   "execution_count": 152,
   "metadata": {},
   "outputs": [
    {
     "name": "stdout",
     "output_type": "stream",
     "text": [
      "True\n",
      "True\n",
      "True\n"
     ]
    }
   ],
   "source": [
    "print(bool(5))\n",
    "print(bool(74.555))\n",
    "print(bool('x'))"
   ]
  }
 ],
 "metadata": {
  "kernelspec": {
   "display_name": "Python 3",
   "language": "python",
   "name": "python3"
  },
  "language_info": {
   "codemirror_mode": {
    "name": "ipython",
    "version": 3
   },
   "file_extension": ".py",
   "mimetype": "text/x-python",
   "name": "python",
   "nbconvert_exporter": "python",
   "pygments_lexer": "ipython3",
   "version": "3.10.2"
  },
  "orig_nbformat": 4
 },
 "nbformat": 4,
 "nbformat_minor": 2
}
