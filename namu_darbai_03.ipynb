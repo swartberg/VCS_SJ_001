{
 "cells": [
  {
   "cell_type": "markdown",
   "metadata": {},
   "source": [
    "1. Iš pirmų 100 skaičių, jeigu skaičius dalinasi iš 2 be liekanos, atspausdinkite `Fizz`, jeigu skaičius dalinasi iš 3 be liekanos atspausdinkite `Buzz`, jei skaičius dalinasi iš 2 ir 3 be liekanos, atspausdinkite `FizzBuzz`\n",
    "Pvz:\n",
    "1 - ''\n",
    "2 - 'Fizz'\n",
    "3 - 'Buzz'\n",
    "4 - 'Fizz'\n",
    "5 - ''\n",
    "6 - 'FizzBuzz'"
   ]
  },
  {
   "cell_type": "code",
   "execution_count": 1,
   "metadata": {},
   "outputs": [
    {
     "name": "stdout",
     "output_type": "stream",
     "text": [
      "1 - \n",
      "2 - Fizz\n",
      "3 - Buzz\n",
      "4 - Fizz\n",
      "5 - \n",
      "6 - FizzBuzz\n",
      "7 - \n",
      "8 - Fizz\n",
      "9 - Buzz\n",
      "10 - Fizz\n",
      "11 - \n",
      "12 - FizzBuzz\n",
      "13 - \n",
      "14 - Fizz\n",
      "15 - Buzz\n",
      "16 - Fizz\n",
      "17 - \n",
      "18 - FizzBuzz\n",
      "19 - \n",
      "20 - Fizz\n",
      "21 - Buzz\n",
      "22 - Fizz\n",
      "23 - \n",
      "24 - FizzBuzz\n",
      "25 - \n",
      "26 - Fizz\n",
      "27 - Buzz\n",
      "28 - Fizz\n",
      "29 - \n",
      "30 - FizzBuzz\n",
      "31 - \n",
      "32 - Fizz\n",
      "33 - Buzz\n",
      "34 - Fizz\n",
      "35 - \n",
      "36 - FizzBuzz\n",
      "37 - \n",
      "38 - Fizz\n",
      "39 - Buzz\n",
      "40 - Fizz\n",
      "41 - \n",
      "42 - FizzBuzz\n",
      "43 - \n",
      "44 - Fizz\n",
      "45 - Buzz\n",
      "46 - Fizz\n",
      "47 - \n",
      "48 - FizzBuzz\n",
      "49 - \n",
      "50 - Fizz\n",
      "51 - Buzz\n",
      "52 - Fizz\n",
      "53 - \n",
      "54 - FizzBuzz\n",
      "55 - \n",
      "56 - Fizz\n",
      "57 - Buzz\n",
      "58 - Fizz\n",
      "59 - \n",
      "60 - FizzBuzz\n",
      "61 - \n",
      "62 - Fizz\n",
      "63 - Buzz\n",
      "64 - Fizz\n",
      "65 - \n",
      "66 - FizzBuzz\n",
      "67 - \n",
      "68 - Fizz\n",
      "69 - Buzz\n",
      "70 - Fizz\n",
      "71 - \n",
      "72 - FizzBuzz\n",
      "73 - \n",
      "74 - Fizz\n",
      "75 - Buzz\n",
      "76 - Fizz\n",
      "77 - \n",
      "78 - FizzBuzz\n",
      "79 - \n",
      "80 - Fizz\n",
      "81 - Buzz\n",
      "82 - Fizz\n",
      "83 - \n",
      "84 - FizzBuzz\n",
      "85 - \n",
      "86 - Fizz\n",
      "87 - Buzz\n",
      "88 - Fizz\n",
      "89 - \n",
      "90 - FizzBuzz\n",
      "91 - \n",
      "92 - Fizz\n",
      "93 - Buzz\n",
      "94 - Fizz\n",
      "95 - \n",
      "96 - FizzBuzz\n",
      "97 - \n",
      "98 - Fizz\n",
      "99 - Buzz\n",
      "100 - Fizz\n"
     ]
    }
   ],
   "source": [
    "answers = ['Fizz', 'Buzz']\n",
    "for i in range(1, 101):\n",
    "    if (i % 2) == 0 and (i % 3) == 0:\n",
    "        print(f'{i} - {answers[0]}{answers[1]}')\n",
    "    elif (i % 2) == 0:\n",
    "        print(f'{i} - {answers[0]}')\n",
    "    elif (i % 3) == 0:\n",
    "        print(f'{i} - {answers[1]}')\n",
    "    else:\n",
    "        print(f'{i} - ')"
   ]
  },
  {
   "cell_type": "markdown",
   "metadata": {},
   "source": [
    "3. Leiskite vartotojui pasirinkti skaičių, jeigu įvestas skaičius yra daugiau arba lygus 10, einant per skaičius nuo 1 iki pasirinkto skaičiaus, atspausdinkite visus skaičius kurie dalinasi iš 5 su liekana"
   ]
  },
  {
   "cell_type": "code",
   "execution_count": 13,
   "metadata": {},
   "outputs": [
    {
     "name": "stdout",
     "output_type": "stream",
     "text": [
      "1\n",
      "2\n",
      "3\n",
      "4\n",
      "6\n",
      "7\n",
      "8\n",
      "9\n"
     ]
    }
   ],
   "source": [
    "number = int(input('Enter number'))\n",
    "\n",
    "if number >= 10:\n",
    "    for i in range(1, number):\n",
    "        if (i % 5) != 0:\n",
    "            print(i)\n",
    "else:\n",
    "    pass"
   ]
  },
  {
   "cell_type": "markdown",
   "metadata": {},
   "source": [
    "3. Koks yra sąrašo ilgis sudaryto iš pateiktų sąrašų kombinacijų, jeigu norime rasti visas įmanomas reikšmes? Išrikiuokite sąrašą nuo didžiausios iki mažiausios reikšmės (teks atlikti papildomų veiksmų tam atlikti teisingai, naudoti viena iš 3 narių rikiavimui)"
   ]
  },
  {
   "cell_type": "code",
   "execution_count": 1,
   "metadata": {},
   "outputs": [
    {
     "name": "stdout",
     "output_type": "stream",
     "text": [
      "100\n",
      "[['1', 'labas', '200'], ['1', 'vakaras', '200'], ['1', 'kokia grazi diena', '200'], ['1', 'siandien uz lango', '200'], ['1', '10 laipsniu silumos', '200'], ['2', 'labas', '200'], ['2', 'vakaras', '200'], ['2', 'kokia grazi diena', '200'], ['2', 'siandien uz lango', '200'], ['2', '10 laipsniu silumos', '200'], ['3', 'labas', '200'], ['3', 'vakaras', '200'], ['3', 'kokia grazi diena', '200'], ['3', 'siandien uz lango', '200'], ['3', '10 laipsniu silumos', '200'], ['4', 'labas', '200'], ['4', 'vakaras', '200'], ['4', 'kokia grazi diena', '200'], ['4', 'siandien uz lango', '200'], ['4', '10 laipsniu silumos', '200'], ['5', 'labas', '200'], ['5', 'vakaras', '200'], ['5', 'kokia grazi diena', '200'], ['5', 'siandien uz lango', '200'], ['5', '10 laipsniu silumos', '200'], ['1', 'labas', '100'], ['1', 'vakaras', '100'], ['1', 'kokia grazi diena', '100'], ['1', 'siandien uz lango', '100'], ['1', '10 laipsniu silumos', '100'], ['2', 'labas', '100'], ['2', 'vakaras', '100'], ['2', 'kokia grazi diena', '100'], ['2', 'siandien uz lango', '100'], ['2', '10 laipsniu silumos', '100'], ['3', 'labas', '100'], ['3', 'vakaras', '100'], ['3', 'kokia grazi diena', '100'], ['3', 'siandien uz lango', '100'], ['3', '10 laipsniu silumos', '100'], ['4', 'labas', '100'], ['4', 'vakaras', '100'], ['4', 'kokia grazi diena', '100'], ['4', 'siandien uz lango', '100'], ['4', '10 laipsniu silumos', '100'], ['5', 'labas', '100'], ['5', 'vakaras', '100'], ['5', 'kokia grazi diena', '100'], ['5', 'siandien uz lango', '100'], ['5', '10 laipsniu silumos', '100'], ['1', 'labas', 40], ['1', 'vakaras', 40], ['1', 'kokia grazi diena', 40], ['1', 'siandien uz lango', 40], ['1', '10 laipsniu silumos', 40], ['2', 'labas', 40], ['2', 'vakaras', 40], ['2', 'kokia grazi diena', 40], ['2', 'siandien uz lango', 40], ['2', '10 laipsniu silumos', 40], ['3', 'labas', 40], ['3', 'vakaras', 40], ['3', 'kokia grazi diena', 40], ['3', 'siandien uz lango', 40], ['3', '10 laipsniu silumos', 40], ['4', 'labas', 40], ['4', 'vakaras', 40], ['4', 'kokia grazi diena', 40], ['4', 'siandien uz lango', 40], ['4', '10 laipsniu silumos', 40], ['5', 'labas', 40], ['5', 'vakaras', 40], ['5', 'kokia grazi diena', 40], ['5', 'siandien uz lango', 40], ['5', '10 laipsniu silumos', 40], ['1', 'labas', 10], ['1', 'vakaras', 10], ['1', 'kokia grazi diena', 10], ['1', 'siandien uz lango', 10], ['1', '10 laipsniu silumos', 10], ['2', 'labas', 10], ['2', 'vakaras', 10], ['2', 'kokia grazi diena', 10], ['2', 'siandien uz lango', 10], ['2', '10 laipsniu silumos', 10], ['3', 'labas', 10], ['3', 'vakaras', 10], ['3', 'kokia grazi diena', 10], ['3', 'siandien uz lango', 10], ['3', '10 laipsniu silumos', 10], ['4', 'labas', 10], ['4', 'vakaras', 10], ['4', 'kokia grazi diena', 10], ['4', 'siandien uz lango', 10], ['4', '10 laipsniu silumos', 10], ['5', 'labas', 10], ['5', 'vakaras', 10], ['5', 'kokia grazi diena', 10], ['5', 'siandien uz lango', 10], ['5', '10 laipsniu silumos', 10]]\n"
     ]
    }
   ],
   "source": [
    "a = ['1','2','3','4','5']\n",
    "b = ['labas', 'vakaras', 'kokia grazi diena', 'siandien uz lango', '10 laipsniu silumos']\n",
    "c = ['100', '200', 40, 10]\n",
    "d = []\n",
    "\n",
    "def sort_value(d):\n",
    "    return int(d[2])\n",
    "\n",
    "for a_value in a:\n",
    "    for b_value in b:\n",
    "        for c_value in c:\n",
    "            d.append([a_value, b_value, c_value])\n",
    "d.sort(key = sort_value, reverse = True)\n",
    "print(len(d))\n",
    "print(d)\n",
    "\n",
    "    "
   ]
  }
 ],
 "metadata": {
  "kernelspec": {
   "display_name": "Python 3",
   "language": "python",
   "name": "python3"
  },
  "language_info": {
   "codemirror_mode": {
    "name": "ipython",
    "version": 3
   },
   "file_extension": ".py",
   "mimetype": "text/x-python",
   "name": "python",
   "nbconvert_exporter": "python",
   "pygments_lexer": "ipython3",
   "version": "3.10.2"
  },
  "orig_nbformat": 4
 },
 "nbformat": 4,
 "nbformat_minor": 2
}
