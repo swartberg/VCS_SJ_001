{
 "cells": [
  {
   "cell_type": "markdown",
   "metadata": {},
   "source": [
    "1. Rasti pasikartojančius elementus tarp dviejų list'ų.\n",
    "   "
   ]
  },
  {
   "cell_type": "code",
   "execution_count": 4,
   "metadata": {},
   "outputs": [
    {
     "name": "stdout",
     "output_type": "stream",
     "text": [
      "[8, 9, 3, 15]\n"
     ]
    }
   ],
   "source": [
    "a = [1,2,3,4,5,6,7,8,9,15]\n",
    "b = [3,8,9,11,15]\n",
    "# Gauti rezultatą c = [3,8,9,15] nes šie skaičiai pasikartoja abiejuose listuose\n",
    "\n",
    "set_c = set(a).intersection(set(b))\n",
    "c = list(set_c)\n",
    "print(c)"
   ]
  },
  {
   "cell_type": "markdown",
   "metadata": {},
   "source": [
    "2. Išfiltruoti unikalius teigiamus numeris iš sąrašo."
   ]
  },
  {
   "cell_type": "code",
   "execution_count": 30,
   "metadata": {},
   "outputs": [
    {
     "data": {
      "text/plain": [
       "[1, 2, 3, 4, 5, 6, 7, 8, 9, 15]"
      ]
     },
     "execution_count": 30,
     "metadata": {},
     "output_type": "execute_result"
    }
   ],
   "source": [
    "x = [1, 5, 1, 2, 8, -9, 10, 1, -8, -900, 14, 5, -8, 2, 1, -20, 900, 800, -6, -8, 12, 1]\n",
    "[number for number in a if number >= 0 ]\n"
   ]
  },
  {
   "cell_type": "markdown",
   "metadata": {},
   "source": [
    "3. Paskaičiuoti pelną pardavus visas prekes. Informacija apie kainą ir kiekius yra pateikiama kaip dictionary, atsakymą suapvalinti iki 2 skaičių po kablelio."
   ]
  },
  {
   "cell_type": "code",
   "execution_count": 34,
   "metadata": {},
   "outputs": [
    {
     "name": "stdout",
     "output_type": "stream",
     "text": [
      "14943.96\n"
     ]
    }
   ],
   "source": [
    "x = { \n",
    "    \"cost_price\": 32.67,\n",
    "    \"sell_price\": 45.00,\n",
    "    \"inventory\": 1212\n",
    "}\n",
    "\n",
    "profit = (x['sell_price'] - x[\"cost_price\"]) * x[\"inventory\"]\n",
    "print(round(profit, 2))"
   ]
  },
  {
   "cell_type": "markdown",
   "metadata": {},
   "source": [
    "4. Turėdami list’ą, gaukite didžiausią šalia esančių skaičių sandaugą."
   ]
  },
  {
   "cell_type": "code",
   "execution_count": 53,
   "metadata": {},
   "outputs": [
    {
     "name": "stdout",
     "output_type": "stream",
     "text": [
      "21\n"
     ]
    }
   ],
   "source": [
    "my_list = [3, 6, -2, -5, 7, 3]\n",
    "# rezultatas = 21, nes 7 ir 3 sandauga yra didžiausia\n",
    "mult = 1\n",
    "for num in range(0, len(my_list)-1):\n",
    "    if my_list[num] * my_list[num+1] > mult:\n",
    "        mult = my_list[num] * my_list[num+1]\n",
    "print(mult)\n"
   ]
  },
  {
   "cell_type": "markdown",
   "metadata": {},
   "source": [
    "5. Iš žodžių sąrašo atsakyti į šiuos klausimus:\n",
    "* Kiek žodžių yra ilgesnių nei 10 simbolių\n",
    "* Kuris žodis yra ilgiausias ir trumpiausias\n",
    "* Ar nors vienas žodis yra palindromas, jei taip, koks arba kokie tai žodžiai\n",
    "\n",
    "Palindromas - atvirkščiai skaitant žodį, gaunasi tas pats žodis.\n",
    "savas -> savas"
   ]
  },
  {
   "cell_type": "code",
   "execution_count": 94,
   "metadata": {},
   "outputs": [
    {
     "name": "stdout",
     "output_type": "stream",
     "text": [
      "{'words with more than 10 symbols: ': 'automobilis', 'longest word:': ['automobilis'], 'shortest word:': ['alus', 'kava'], 'palindromes:': ['naman']}\n"
     ]
    }
   ],
   "source": [
    "words_list = [\"medis\", \"alus\", \"sakotis\", \"kava\", \"mėtėm \", \"saldainis\", \"kepure\", \"automobilis\", \"naman\", \"ragas\"]\n",
    "\n",
    "result = {\n",
    "    \"words with more than 10 symbols: \": [],\n",
    "    \"longest word:\": [],\n",
    "    \"shortest word:\": [],\n",
    "    \"palindromes:\": []\n",
    "}\n",
    "\n",
    "max_len = len(max(words_list, key = len))\n",
    "min_len = len(min(words_list, key = len))\n",
    "\n",
    "result[\"longest word:\"] = [x for x in words_list if len(x) == max_len]\n",
    "result[\"shortest word:\"] = [x for x in words_list if len(x) == min_len]\n",
    "\n",
    "for i in range(0, len(words_list)-1):\n",
    "    if words_list[i] == words_list[i][::-1]:\n",
    "        result[\"palindromes:\"].append(words_list[i])\n",
    "    elif len(words_list[i]) >= 10:\n",
    "        result[\"words with more than 10 symbols: \"] = words_list[i]\n",
    "    \n",
    "\n",
    "print(result)"
   ]
  },
  {
   "cell_type": "markdown",
   "metadata": {},
   "source": [
    "6. Parašykite funkciją, kuri priims string tipo kintamąjį, gražinkite kiek tame stringę yra raidžių, skaičių ir skyrybos (specialių) ženklų, tarpų.\n",
    "   \n",
    "Pvz: \n",
    "simboliu_ieskotojas('vienas 2 ??')\n",
    "\n",
    "atspausdins:\n",
    "\"Raidžių yra 6, skaičių yra 1, simbolių yra 2, tarpų yra 2\""
   ]
  },
  {
   "cell_type": "code",
   "execution_count": 120,
   "metadata": {},
   "outputs": [
    {
     "name": "stdout",
     "output_type": "stream",
     "text": [
      "Raidziu yra 6, skaiciu yra 1, simboliu yra 2, tarpu yra 2\n"
     ]
    }
   ],
   "source": [
    "def count_string (user_string):\n",
    "    letters = 0\n",
    "    numbers = 0\n",
    "    symbols = 0\n",
    "    spaces = 0\n",
    "\n",
    "    for char in user_string:\n",
    "        if char.isalpha():\n",
    "            letters += 1\n",
    "        elif char.isdigit():\n",
    "            numbers += 1\n",
    "        elif char.isspace():\n",
    "            spaces += 1\n",
    "        else:\n",
    "            symbols += 1\n",
    "    \n",
    "    print(f'Raidziu yra {letters}, skaiciu yra {numbers}, simboliu yra {symbols}, tarpu yra {spaces}')\n",
    "\n",
    "user_input = input('Enter something')\n",
    "\n",
    "count_string(user_input)"
   ]
  },
  {
   "cell_type": "markdown",
   "metadata": {},
   "source": [
    "7. Parašykite funkciją, kuri priima tris skaičius, jie reikš nuo, iki ir žingsnis. Funkcija turi grąžinti listą skaičių tokių, kokius padavėte funkcijai\n",
    "\n",
    "print(skaiciuKurejas(10,100,5)) ->\n",
    "[10, 15, 20, 25, 30, 35, 40, 45, 50, 55, 60, 65, 70, 75, 80, 85, 90, 95]"
   ]
  },
  {
   "cell_type": "code",
   "execution_count": 115,
   "metadata": {},
   "outputs": [
    {
     "name": "stdout",
     "output_type": "stream",
     "text": [
      "[10, 15, 20, 25, 30, 35, 40, 45, 50, 55, 60, 65, 70, 75, 80, 85, 90, 95]\n"
     ]
    }
   ],
   "source": [
    "def f_list(num_1, num_2, num_3):\n",
    "     \n",
    "     x_list = [*range(num_1, num_2, num_3)]\n",
    "\n",
    "     return x_list\n",
    "\n",
    "print(f_list(10, 100, 5))"
   ]
  },
  {
   "cell_type": "markdown",
   "metadata": {},
   "source": [
    "8. Parašyti funkciją, kuri priima vieną list tipo kintamąjį, funkcija grąžina skirtumą tarp didžiausio skaičiaus ir mažiausio skaičiaus.\n",
    "\n",
    "myFunction([1, 5, 6, 10, 4])\n",
    "\n",
    "ATS: 9 , nes max yra 10, o min yra 1"
   ]
  },
  {
   "cell_type": "code",
   "execution_count": 127,
   "metadata": {},
   "outputs": [
    {
     "name": "stdout",
     "output_type": "stream",
     "text": [
      "ATS: 9 nes max yra 10, o min yra 1\n"
     ]
    }
   ],
   "source": [
    "def min_max(user_list):\n",
    "    min_list = min(user_list)\n",
    "    max_list = max(user_list)\n",
    "    result = max_list - min_list\n",
    "    return result\n",
    "\n",
    "list_1 = [1, 5, 6, 10, 4]\n",
    "\n",
    "print(f'ATS: {min_max(list_1)} nes max yra {max(list_1)}, o min yra {min(list_1)}')\n"
   ]
  }
 ],
 "metadata": {
  "kernelspec": {
   "display_name": "Python 3",
   "language": "python",
   "name": "python3"
  },
  "language_info": {
   "codemirror_mode": {
    "name": "ipython",
    "version": 3
   },
   "file_extension": ".py",
   "mimetype": "text/x-python",
   "name": "python",
   "nbconvert_exporter": "python",
   "pygments_lexer": "ipython3",
   "version": "3.11.5"
  }
 },
 "nbformat": 4,
 "nbformat_minor": 2
}
