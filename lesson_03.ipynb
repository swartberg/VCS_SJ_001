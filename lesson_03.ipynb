{
 "cells": [
  {
   "cell_type": "markdown",
   "metadata": {},
   "source": [
    "# Lists"
   ]
  },
  {
   "cell_type": "markdown",
   "metadata": {},
   "source": [
    "## basics"
   ]
  },
  {
   "cell_type": "code",
   "execution_count": 2,
   "metadata": {},
   "outputs": [],
   "source": [
    "cities = ['Vilnius', 'Kaunas', 'Klaipeda']"
   ]
  },
  {
   "cell_type": "code",
   "execution_count": 18,
   "metadata": {},
   "outputs": [
    {
     "name": "stdout",
     "output_type": "stream",
     "text": [
      "['Vilnius', 'Kaunas', 'Klaipeda']\n",
      "Vilnius\n",
      "<class 'list'>\n",
      "<class 'str'>\n",
      "ilgis: 3\n",
      "slicing ['Vilnius', 'Kaunas']\n",
      "slicing ['Kaunas', 'Klaipeda']\n",
      "slicing on element Kl\n"
     ]
    }
   ],
   "source": [
    "print(cities)\n",
    "print(cities[0])\n",
    "print(type(cities))\n",
    "print(type(cities[0]))\n",
    "print('ilgis:', len(cities))\n",
    "print('slicing', cities[0:2])\n",
    "print('slicing', cities[-2:])\n",
    "print('slicing on element', cities[2][0:2])"
   ]
  },
  {
   "cell_type": "code",
   "execution_count": 19,
   "metadata": {},
   "outputs": [
    {
     "name": "stdout",
     "output_type": "stream",
     "text": [
      "[1, 2, 3, 4, 5, 6, 7, 8, 9, '10']\n",
      "1: <class 'int'>\n",
      "10: <class 'str'>\n",
      "ilgis: 10\n"
     ]
    }
   ],
   "source": [
    "numbers = [1, 2, 3, 4, 5, 6, 7, 8, 9, '10']\n",
    "print(numbers)\n",
    "print(f'{numbers[0]}:', type(numbers[0]))\n",
    "print(f'{numbers[-1]}:', type(numbers[-1]))\n",
    "print('ilgis:', len(numbers))"
   ]
  },
  {
   "cell_type": "markdown",
   "metadata": {},
   "source": [
    "## append // count // remove // pop // insert // extend"
   ]
  },
  {
   "cell_type": "code",
   "execution_count": 33,
   "metadata": {},
   "outputs": [
    {
     "name": "stdout",
     "output_type": "stream",
     "text": [
      "[1, 2, 3, 4, 5, 10, 69, 433, 642]\n",
      "[1, 2, 3, 4, 5, 10, 69, 433, 642, 942]\n",
      "[1, 2, 3, 4, 5, 10, 69, 433, 642, 942, 'penki simtai']\n"
     ]
    }
   ],
   "source": [
    "numbers = [1, 2, 3, 4, 5, 10, 69, 433]\n",
    "numbers.append(642)\n",
    "print(numbers)\n",
    "numbers.append(942)\n",
    "print(numbers)\n",
    "numbers.append('penki simtai')\n",
    "print(numbers)"
   ]
  },
  {
   "cell_type": "code",
   "execution_count": 47,
   "metadata": {},
   "outputs": [
    {
     "name": "stdout",
     "output_type": "stream",
     "text": [
      "None\n",
      "[1, 2, 3, 4, 5, 10, 69, 433, 642, 942, 'penki simtai', 'penki simtai', 'penki simtai', 'penki simtai', 'penki simtai']\n"
     ]
    }
   ],
   "source": [
    "print(numbers.append('penki simtai')) # returns nothing,  executes method\n",
    "print(numbers)"
   ]
  },
  {
   "cell_type": "code",
   "execution_count": 48,
   "metadata": {},
   "outputs": [
    {
     "name": "stdout",
     "output_type": "stream",
     "text": [
      "5\n"
     ]
    }
   ],
   "source": [
    "print(numbers.count('penki simtai'))"
   ]
  },
  {
   "cell_type": "code",
   "execution_count": 49,
   "metadata": {},
   "outputs": [
    {
     "name": "stdout",
     "output_type": "stream",
     "text": [
      "before: [1, 2, 3, 4, 5, 10, 69, 433, 642, 942, 'penki simtai', 'penki simtai', 'penki simtai', 'penki simtai', 'penki simtai']\n",
      "after: [1, 2, 3, 4, 5, 10, 69, 433, 642, 942, 'penki simtai', 'penki simtai', 'penki simtai', 'penki simtai']\n"
     ]
    }
   ],
   "source": [
    "print('before:', numbers)\n",
    "numbers.remove('penki simtai') # outputs error if not found\n",
    "print('after:', numbers)"
   ]
  },
  {
   "cell_type": "code",
   "execution_count": 53,
   "metadata": {},
   "outputs": [
    {
     "name": "stdout",
     "output_type": "stream",
     "text": [
      "before: [1, 2, 3, 4, 5, 10, 69, 433]\n",
      "433\n",
      "after: [1, 2, 3, 4, 5, 10, 69]\n",
      "1\n",
      "after 2: [2, 3, 4, 5, 10, 69]\n"
     ]
    }
   ],
   "source": [
    "numbers = [1, 2, 3, 4, 5, 10, 69, 433]\n",
    "print('before:', numbers)\n",
    "print(numbers.pop()) # pasalina paskutini\n",
    "print('after:', numbers)\n",
    "print(numbers.pop(0))\n",
    "print('after 2:', numbers)"
   ]
  },
  {
   "cell_type": "code",
   "execution_count": 60,
   "metadata": {},
   "outputs": [
    {
     "name": "stdout",
     "output_type": "stream",
     "text": [
      "[1, 2, 3, 4, 5, 10, 69, 433]\n",
      "after append: [1, 2, 3, 4, 5, 10, 69, 433, 400]\n",
      "after insert: [1, 2, 3, 4, 5, 10, 500, 69, 433, 400]\n",
      "after extend: [1, 2, 3, 4, 5, 10, 500, 69, 433, 400, 600, 700, 800]\n"
     ]
    }
   ],
   "source": [
    "numbers = [1, 2, 3, 4, 5, 10, 69, 433]\n",
    "print(numbers)\n",
    "numbers.append(400)\n",
    "print('after append:', numbers)\n",
    "numbers.insert(6, 500)\n",
    "print('after insert:', numbers)\n",
    "numbers.extend([600, 700, 800])\n",
    "print('after extend:', numbers)"
   ]
  },
  {
   "cell_type": "code",
   "execution_count": 91,
   "metadata": {},
   "outputs": [
    {
     "name": "stdout",
     "output_type": "stream",
     "text": [
      "65\n"
     ]
    }
   ],
   "source": [
    "# print 65\n",
    "nested_list = [654, [[[48, [['65']]], 57]]]\n",
    "print(nested_list[1][0][0][1][0][0])"
   ]
  },
  {
   "cell_type": "markdown",
   "metadata": {},
   "source": [
    "## reverse"
   ]
  },
  {
   "cell_type": "code",
   "execution_count": 98,
   "metadata": {},
   "outputs": [
    {
     "name": "stdout",
     "output_type": "stream",
     "text": [
      "[2, 3, 4, 500, 5, 10, 400, 600, 800, 1000, 700]\n",
      "[700, 1000, 800, 600, 400, 10, 5, 500, 4, 3, 2]\n",
      "[2, 3, 4, 500, 5, 10, 400, 600, 800, 1000, 700]\n",
      "[700, 1000, 800, 600, 400, 10, 5, 500, 4, 3, 2]\n"
     ]
    }
   ],
   "source": [
    "numbers = [2, 3, 4, 500, 5, 10, 400, 600, 800, 1000, 700]\n",
    "print(numbers)\n",
    "\n",
    "# slicing\n",
    "print(numbers[::-1])\n",
    "print(numbers)\n",
    "\n",
    "# method .reverse()\n",
    "numbers.reverse() # outputs 'None' | overwrites original data -- use with caution\n",
    "print(numbers)\n"
   ]
  },
  {
   "cell_type": "markdown",
   "metadata": {},
   "source": [
    "## sort"
   ]
  },
  {
   "cell_type": "code",
   "execution_count": 104,
   "metadata": {},
   "outputs": [
    {
     "name": "stdout",
     "output_type": "stream",
     "text": [
      "[2, 3, 4, 500, 5, 10, 400, 600, 800, 1000, 700]\n",
      "[2, 3, 4, 5, 10, 400, 500, 600, 700, 800, 1000]\n",
      "[1000, 800, 700, 600, 500, 400, 10, 5, 4, 3, 2]\n"
     ]
    }
   ],
   "source": [
    "numbers = [2, 3, 4, 500, 5, 10, 400, 600, 800, 1000, 700]\n",
    "print(numbers)\n",
    "numbers.sort() # outputs 'None' | overwrites original data -- use with caution\n",
    "print(numbers)\n",
    "numbers.sort(reverse=True) # outputs 'None' | overwrites original data -- use with caution\n",
    "print(numbers)"
   ]
  },
  {
   "cell_type": "code",
   "execution_count": 113,
   "metadata": {},
   "outputs": [
    {
     "name": "stdout",
     "output_type": "stream",
     "text": [
      "[2, 3, 4, 500, 5, 10, 400, 600, 800, 1000, 700]\n",
      "[2, 3, 4, 5, 10, 400, 500, 600, 700, 800, 1000]\n",
      "[2, 3, 4, 500, 5, 10, 400, 600, 800, 1000, 700]\n",
      "[1000, 800, 700, 600, 500, 400, 10, 5, 4, 3, 2]\n",
      "[2, 3, 4, 500, 5, 10, 400, 600, 800, 1000, 700]\n"
     ]
    }
   ],
   "source": [
    "numbers = [2, 3, 4, 500, 5, 10, 400, 600, 800, 1000, 700]\n",
    "print(numbers)\n",
    "print(sorted(numbers)) # returns new list | does not overwrite original data\n",
    "print(numbers)\n",
    "print(sorted(numbers, reverse=True))\n",
    "print(numbers)"
   ]
  },
  {
   "cell_type": "code",
   "execution_count": 119,
   "metadata": {},
   "outputs": [
    {
     "name": "stdout",
     "output_type": "stream",
     "text": [
      "64\n",
      "<class 'str'>\n",
      "96\n"
     ]
    }
   ],
   "source": [
    "number = input('Enter number: ')\n",
    "print(number)\n",
    "print(type(number))\n",
    "# print(number + 32) # error\n",
    "print(int(number) + 32)"
   ]
  },
  {
   "cell_type": "code",
   "execution_count": 125,
   "metadata": {},
   "outputs": [
    {
     "name": "stdout",
     "output_type": "stream",
     "text": [
      "[2, 3, 4, 500, 5, 10, 400, 600, 800, 1000, 700]\n",
      "max 1000\n",
      "min 2\n",
      "sum 4024\n"
     ]
    }
   ],
   "source": [
    "print(numbers)\n",
    "print('max', max(numbers))\n",
    "print('min', min(numbers))\n",
    "print('sum', sum(numbers))"
   ]
  },
  {
   "cell_type": "code",
   "execution_count": 140,
   "metadata": {},
   "outputs": [
    {
     "name": "stdout",
     "output_type": "stream",
     "text": [
      "2.3:  2\n",
      "2.5:  2\n",
      "2.6:  3\n",
      "3.5:  4\n",
      "4.5:  4\n",
      "5.5:  6\n"
     ]
    }
   ],
   "source": [
    "print('2.3: ', round(2.3))\n",
    "print('2.5: ', round(2.5))\n",
    "print('2.6: ', round(2.6))\n",
    "print('3.5: ', round(3.5))\n",
    "print('4.5: ', round(4.5))\n",
    "print('5.5: ', round(5.5))"
   ]
  },
  {
   "cell_type": "code",
   "execution_count": 4,
   "metadata": {},
   "outputs": [
    {
     "name": "stdout",
     "output_type": "stream",
     "text": [
      "['Vilnius', 'Kaunas', 'Klaipeda']\n",
      "True\n",
      "False\n"
     ]
    }
   ],
   "source": [
    "print(cities)\n",
    "print('Vilnius' in cities)\n",
    "print('Siauliai' in cities)"
   ]
  },
  {
   "cell_type": "code",
   "execution_count": 7,
   "metadata": {},
   "outputs": [
    {
     "name": "stdout",
     "output_type": "stream",
     "text": [
      "False\n",
      "True\n",
      "True\n"
     ]
    }
   ],
   "source": [
    "print(bool([])) # False\n",
    "print(bool([''])) # True\n",
    "print(bool([False]))"
   ]
  },
  {
   "cell_type": "markdown",
   "metadata": {},
   "source": [
    "## list operations"
   ]
  },
  {
   "cell_type": "code",
   "execution_count": 9,
   "metadata": {},
   "outputs": [
    {
     "name": "stdout",
     "output_type": "stream",
     "text": [
      "[1, 2, 3, 'A', 'B', 'C']\n"
     ]
    }
   ],
   "source": [
    "combined_list = [1, 2, 3] + [\"A\", \"B\", \"C\"]\n",
    "print(combined_list)"
   ]
  },
  {
   "cell_type": "code",
   "execution_count": 10,
   "metadata": {},
   "outputs": [
    {
     "name": "stdout",
     "output_type": "stream",
     "text": [
      "[1, 2, 'A', 1, 2, 'A', 1, 2, 'A', 1, 2, 'A', 1, 2, 'A', 1, 2, 'A', 1, 2, 'A', 1, 2, 'A', 1, 2, 'A', 1, 2, 'A']\n"
     ]
    }
   ],
   "source": [
    "mult_list = [1, 2, \"A\"] * 10\n",
    "print(mult_list)\n"
   ]
  },
  {
   "cell_type": "markdown",
   "metadata": {},
   "source": [
    "# uzduotys"
   ]
  },
  {
   "cell_type": "code",
   "execution_count": 14,
   "metadata": {},
   "outputs": [
    {
     "name": "stdout",
     "output_type": "stream",
     "text": [
      "[5, 4, 7, 12, 9]\n"
     ]
    }
   ],
   "source": [
    "# 1\n",
    "listas = [5, 4, 7, 12]\n",
    "len(listas)\n",
    "listas.append(9)\n",
    "print(listas)"
   ]
  },
  {
   "cell_type": "code",
   "execution_count": 15,
   "metadata": {},
   "outputs": [
    {
     "name": "stdout",
     "output_type": "stream",
     "text": [
      "False\n"
     ]
    }
   ],
   "source": [
    "# 2\n",
    "print(2 in listas)"
   ]
  },
  {
   "cell_type": "code",
   "execution_count": 24,
   "metadata": {},
   "outputs": [
    {
     "name": "stdout",
     "output_type": "stream",
     "text": [
      "[5, 4, 7, 12, 9, 14, 53, 77, 23, 6]\n",
      "6\n",
      "[4, 5, 7, 9, 12, 14, 23, 53, 77]\n",
      "1\n"
     ]
    }
   ],
   "source": [
    "# 3\n",
    "kitas_listas = [14, 53, 77, 23, 6]\n",
    "list_sum = listas + kitas_listas\n",
    "print(list_sum)\n",
    "print(list_sum.pop())\n",
    "print(sorted(list_sum))\n",
    "print(list_sum.count(4))\n"
   ]
  }
 ],
 "metadata": {
  "kernelspec": {
   "display_name": "Python 3",
   "language": "python",
   "name": "python3"
  },
  "language_info": {
   "codemirror_mode": {
    "name": "ipython",
    "version": 3
   },
   "file_extension": ".py",
   "mimetype": "text/x-python",
   "name": "python",
   "nbconvert_exporter": "python",
   "pygments_lexer": "ipython3",
   "version": "3.10.2"
  },
  "orig_nbformat": 4
 },
 "nbformat": 4,
 "nbformat_minor": 2
}
