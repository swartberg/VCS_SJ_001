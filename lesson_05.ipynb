{
 "cells": [
  {
   "cell_type": "markdown",
   "metadata": {},
   "source": [
    "# tuple"
   ]
  },
  {
   "cell_type": "code",
   "execution_count": 3,
   "metadata": {},
   "outputs": [
    {
     "name": "stdout",
     "output_type": "stream",
     "text": [
      "(1, 2, 3, 4, 5, 6, 7, 8, 9, 10)\n",
      "<class 'tuple'>\n",
      "10\n"
     ]
    }
   ],
   "source": [
    "my_tuple = (1, 2, 3, 4, 5, 6, 7, 8, 9, 10)\n",
    "\n",
    "print(my_tuple)\n",
    "print(type(my_tuple))\n",
    "print(len(my_tuple))"
   ]
  },
  {
   "cell_type": "code",
   "execution_count": 5,
   "metadata": {},
   "outputs": [
    {
     "name": "stdout",
     "output_type": "stream",
     "text": [
      "(1, 2, 3, 4, 5, 6, 7, 8, 9, 10, 5, 5, 4, 5, 5, 4)\n"
     ]
    },
    {
     "ename": "TypeError",
     "evalue": "'tuple' object does not support item assignment",
     "output_type": "error",
     "traceback": [
      "\u001b[1;31m---------------------------------------------------------------------------\u001b[0m",
      "\u001b[1;31mTypeError\u001b[0m                                 Traceback (most recent call last)",
      "\u001b[1;32mc:\\Users\\PC\\Desktop\\Python\\VCS_SJ_001\\lesson_05.ipynb Cell 3\u001b[0m line \u001b[0;36m3\n\u001b[0;32m      <a href='vscode-notebook-cell:/c%3A/Users/PC/Desktop/Python/VCS_SJ_001/lesson_05.ipynb#W2sZmlsZQ%3D%3D?line=0'>1</a>\u001b[0m my_tuple \u001b[39m=\u001b[39m my_tuple \u001b[39m+\u001b[39m (\u001b[39m5\u001b[39m, \u001b[39m5\u001b[39m, \u001b[39m4\u001b[39m)\n\u001b[0;32m      <a href='vscode-notebook-cell:/c%3A/Users/PC/Desktop/Python/VCS_SJ_001/lesson_05.ipynb#W2sZmlsZQ%3D%3D?line=1'>2</a>\u001b[0m \u001b[39mprint\u001b[39m(my_tuple)\n\u001b[1;32m----> <a href='vscode-notebook-cell:/c%3A/Users/PC/Desktop/Python/VCS_SJ_001/lesson_05.ipynb#W2sZmlsZQ%3D%3D?line=2'>3</a>\u001b[0m my_tuple[\u001b[39m-\u001b[39;49m\u001b[39m1\u001b[39;49m] \u001b[39m=\u001b[39m \u001b[39m100\u001b[39m\n",
      "\u001b[1;31mTypeError\u001b[0m: 'tuple' object does not support item assignment"
     ]
    }
   ],
   "source": [
    "my_tuple = my_tuple + (5, 5, 4)\n",
    "print(my_tuple)\n",
    "# my_tuple[-1] = 100 # does not work"
   ]
  },
  {
   "cell_type": "code",
   "execution_count": 11,
   "metadata": {},
   "outputs": [
    {
     "name": "stdout",
     "output_type": "stream",
     "text": [
      "5\n",
      "(3, 4, 5, 6, 7)\n"
     ]
    }
   ],
   "source": [
    "print(my_tuple[4])\n",
    "print(my_tuple[2:7])"
   ]
  },
  {
   "cell_type": "code",
   "execution_count": 14,
   "metadata": {},
   "outputs": [
    {
     "name": "stdout",
     "output_type": "stream",
     "text": [
      "5\n",
      "4\n"
     ]
    }
   ],
   "source": [
    "print(my_tuple.count(5))\n",
    "print(my_tuple.index(5))\n"
   ]
  },
  {
   "cell_type": "code",
   "execution_count": 24,
   "metadata": {},
   "outputs": [
    {
     "name": "stdout",
     "output_type": "stream",
     "text": [
      "8\n"
     ]
    }
   ],
   "source": [
    "my_tuple = (1, 2, ['3', 4, 5], [6, [7, (8)]])\n",
    "print(my_tuple[3][1][1])"
   ]
  },
  {
   "cell_type": "code",
   "execution_count": 29,
   "metadata": {},
   "outputs": [
    {
     "name": "stdout",
     "output_type": "stream",
     "text": [
      "(11, [222, 22], 44, 55)\n"
     ]
    }
   ],
   "source": [
    "tuple1 = (11, [222, 33], 44, 55)\n",
    "list1 = list(tuple1)\n",
    "list1[1][1] = 22\n",
    "tuple1 = tuple(list1)\n",
    "print(tuple1)\n"
   ]
  },
  {
   "cell_type": "code",
   "execution_count": 40,
   "metadata": {},
   "outputs": [
    {
     "name": "stdout",
     "output_type": "stream",
     "text": [
      "(11, [222, 22], 44, 55)\n"
     ]
    }
   ],
   "source": [
    "tuple1 = (11, [222, 33], 44, 55)\n",
    "tuple1[1][1] = 22\n",
    "print(tuple1)"
   ]
  },
  {
   "cell_type": "code",
   "execution_count": 49,
   "metadata": {},
   "outputs": [
    {
     "name": "stdout",
     "output_type": "stream",
     "text": [
      "(1, 3, 4, 5, 6, 8, 9)\n",
      "1\n",
      "9\n"
     ]
    }
   ],
   "source": [
    "tuple_1 = (1, 4, 6, 8, 9)\n",
    "tuple_2 = (3, 5, 7)\n",
    "tuple_3 = tuple_1 + tuple_2\n",
    "list_3 = list(tuple_3)\n",
    "list_3.remove(list_3[-1])\n",
    "list_3 = sorted(list_3)\n",
    "tuple_3 = tuple(list_3)\n",
    "print(tuple_3)\n",
    "print(tuple_3.count(3))\n",
    "print(max(tuple_3))\n"
   ]
  },
  {
   "cell_type": "markdown",
   "metadata": {},
   "source": [
    "# none a.k.a. null, nill"
   ]
  },
  {
   "cell_type": "code",
   "execution_count": 51,
   "metadata": {},
   "outputs": [
    {
     "name": "stdout",
     "output_type": "stream",
     "text": [
      "None\n",
      "<class 'NoneType'>\n"
     ]
    }
   ],
   "source": [
    "niekas = None\n",
    "print(niekas)\n",
    "print(type(niekas))"
   ]
  },
  {
   "cell_type": "code",
   "execution_count": 53,
   "metadata": {},
   "outputs": [
    {
     "name": "stdout",
     "output_type": "stream",
     "text": [
      "None\n",
      "[1, 2, 3, 4, 45, 643]\n"
     ]
    }
   ],
   "source": [
    "my_list = [1, 2, 3, 45, 643, 4]\n",
    "print(my_list.sort()) # returns None\n",
    "print(my_list)"
   ]
  },
  {
   "cell_type": "code",
   "execution_count": 58,
   "metadata": {},
   "outputs": [
    {
     "name": "stdout",
     "output_type": "stream",
     "text": [
      "\n"
     ]
    }
   ],
   "source": [
    "vardas = None\n",
    "\n",
    "# ilgas kodas\n",
    "if True:\n",
    "    vardas = input('Iveskite varda: ')\n",
    "print(vardas)"
   ]
  },
  {
   "cell_type": "markdown",
   "metadata": {},
   "source": [
    "## list comprehension"
   ]
  },
  {
   "cell_type": "code",
   "execution_count": 60,
   "metadata": {},
   "outputs": [
    {
     "name": "stdout",
     "output_type": "stream",
     "text": [
      "[1, 2, 3, 4, 5, 6, 7, 8, 9, 10, 11, 12, 13, 14, 15, 16, 17, 18, 19, 20]\n",
      "[3, 6, 9, 12, 15, 18]\n"
     ]
    }
   ],
   "source": [
    "numbers = list(range(1, 21))\n",
    "print(numbers)\n",
    "# takae numbers divisible by 3\n",
    "divisible_by_3 = []\n",
    "for number in numbers:\n",
    "    if number % 3 == 0:\n",
    "        divisible_by_3.append(number)\n",
    "print(divisible_by_3)"
   ]
  },
  {
   "cell_type": "code",
   "execution_count": 65,
   "metadata": {},
   "outputs": [
    {
     "name": "stdout",
     "output_type": "stream",
     "text": [
      "[3, 6, 9, 12, 15, 18]\n",
      "[9, 36, 81, 144, 225, 324]\n",
      "[2, 4, 6, 8, 10, 12, 14, 16, 18, 20, 22, 24, 26, 28, 30, 32, 34, 36, 38, 40]\n"
     ]
    }
   ],
   "source": [
    "divisible_by_3 = [number for number in numbers if number % 3 == 0]\n",
    "print(divisible_by_3)\n",
    "\n",
    "divisible_by_3_squared = [number**2 for number in numbers if number % 3 == 0]\n",
    "print(divisible_by_3_squared)\n",
    "\n",
    "numbers_multiplied = [number*2 for number in numbers]\n",
    "print(numbers_multiplied)"
   ]
  },
  {
   "cell_type": "code",
   "execution_count": 67,
   "metadata": {},
   "outputs": [
    {
     "name": "stdout",
     "output_type": "stream",
     "text": [
      "['1 nesidalina is 3', '2 nesidalina is 3', 3, '4 nesidalina is 3', '5 nesidalina is 3', 6, '7 nesidalina is 3', '8 nesidalina is 3', 9, '10 nesidalina is 3', '11 nesidalina is 3', 12, '13 nesidalina is 3', '14 nesidalina is 3', 15, '16 nesidalina is 3', '17 nesidalina is 3', 18, '19 nesidalina is 3', '20 nesidalina is 3']\n"
     ]
    }
   ],
   "source": [
    "divisible_by_3 = [number if number % 3 == 0 else f'{number} nesidalina is 3' for number in range(1, 21)]\n",
    "print(divisible_by_3)"
   ]
  },
  {
   "cell_type": "markdown",
   "metadata": {},
   "source": [
    "# dictionary"
   ]
  },
  {
   "cell_type": "code",
   "execution_count": 69,
   "metadata": {},
   "outputs": [
    {
     "name": "stdout",
     "output_type": "stream",
     "text": [
      "{'name': 'Tomas', 'age': 25, 'city': 'Vilnius'}\n",
      "25\n"
     ]
    }
   ],
   "source": [
    "me = {\n",
    "    # key: value\n",
    "    'name': 'Tomas',\n",
    "    'age': 25,\n",
    "    'city': 'Vilnius'\n",
    "}\n",
    "print(me)\n",
    "\n",
    "print(me['age'])"
   ]
  },
  {
   "cell_type": "code",
   "execution_count": 70,
   "metadata": {},
   "outputs": [
    {
     "name": "stdout",
     "output_type": "stream",
     "text": [
      "{'name': 'Tomas', 'age': 25, 'city': 'Vilnius', 'hobbies': ['coding', 'reading', 'gaming']}\n"
     ]
    }
   ],
   "source": [
    "me['hobbies'] = ['coding', 'reading', 'gaming']\n",
    "print(me)"
   ]
  },
  {
   "cell_type": "code",
   "execution_count": 71,
   "metadata": {},
   "outputs": [
    {
     "name": "stdout",
     "output_type": "stream",
     "text": [
      "{'name': 'Tomas', 'age': 27, 'city': 'Vilnius', 'hobbies': ['coding', 'reading', 'gaming']}\n"
     ]
    }
   ],
   "source": [
    "me['age'] = 27\n",
    "print(me)"
   ]
  },
  {
   "cell_type": "code",
   "execution_count": 78,
   "metadata": {},
   "outputs": [
    {
     "name": "stdout",
     "output_type": "stream",
     "text": [
      "{True: 'tiesa', False: 'melas', None: 'niekas', 2: 'du'}\n",
      "tiesa\n",
      "melas\n",
      "niekas\n",
      "du\n"
     ]
    }
   ],
   "source": [
    "someone = {\n",
    "    True: 'tiesa',\n",
    "    False: 'melas',\n",
    "    None: 'niekas',\n",
    "    2: 'du'\n",
    "}\n",
    "print(someone)\n",
    "print(someone[True])\n",
    "print(someone[False])\n",
    "print(someone[None])\n",
    "print(someone[2])"
   ]
  },
  {
   "cell_type": "code",
   "execution_count": null,
   "metadata": {},
   "outputs": [],
   "source": [
    "zmones = [\n",
    "    {'vardas': 'Jonas', 'amzius': 35},\n",
    "    {'vardas': 'Petras', 'amzius': 50}\n",
    "]\n",
    "for ..."
   ]
  },
  {
   "cell_type": "code",
   "execution_count": 80,
   "metadata": {},
   "outputs": [
    {
     "name": "stdout",
     "output_type": "stream",
     "text": [
      "{'name': 'Tomas', 'age': 27, 'city': 'Vilnius', 'hobbies': ['coding', 'reading', 'gaming']}\n",
      "4\n"
     ]
    }
   ],
   "source": [
    "print(me)\n",
    "print(len(me))"
   ]
  },
  {
   "cell_type": "code",
   "execution_count": 81,
   "metadata": {},
   "outputs": [
    {
     "name": "stdout",
     "output_type": "stream",
     "text": [
      "{'name': 'Tomas', 'age': 27, 'city': 'Vilnius'}\n"
     ]
    }
   ],
   "source": [
    "# me.clear() # removes all dict data\n",
    "del me['hobbies']\n",
    "print(me)"
   ]
  },
  {
   "cell_type": "code",
   "execution_count": 87,
   "metadata": {},
   "outputs": [
    {
     "name": "stdout",
     "output_type": "stream",
     "text": [
      "{'name': 'Tomas', 'age': 25, 'city': 'Vilnius', 'hobbies': ['coding', 'reading', 'gaming']}\n",
      "('hobbies', ['coding', 'reading', 'gaming'])\n"
     ]
    }
   ],
   "source": [
    "me = {\n",
    "    # key: value\n",
    "    'name': 'Tomas',\n",
    "    'age': 25,\n",
    "    'city': 'Vilnius',\n",
    "    'hobbies': ['coding', 'reading', 'gaming']\n",
    "}\n",
    "print(me)\n",
    "print(me.popitem())\n"
   ]
  },
  {
   "cell_type": "code",
   "execution_count": 91,
   "metadata": {},
   "outputs": [
    {
     "name": "stdout",
     "output_type": "stream",
     "text": [
      "{'name': 'Tomas', 'age': 25, 'city': 'Vilnius', 'hobbies': ['coding', 'reading', 'gaming']}\n",
      "None\n",
      "nerastas\n",
      "Tomas\n"
     ]
    }
   ],
   "source": [
    "me = {\n",
    "    # key: value\n",
    "    'name': 'Tomas',\n",
    "    'age': 25,\n",
    "    'city': 'Vilnius',\n",
    "    'hobbies': ['coding', 'reading', 'gaming']\n",
    "}\n",
    "print(me)\n",
    "print(me.get('neegzistuojantis_raktas'))\n",
    "print(me.get('neegzistuojantis_raktas', 'nerastas'))\n",
    "print(me.get('name'))\n"
   ]
  },
  {
   "cell_type": "code",
   "execution_count": 94,
   "metadata": {},
   "outputs": [
    {
     "name": "stdout",
     "output_type": "stream",
     "text": [
      "{'name': 'Tomas', 'age': 25, 'city': 'Vilnius', 'hobbies': ['coding', 'reading', 'gaming']}\n",
      "{'name': 'Tomas', 'age': 28, 'city': 'Siauliai', 'hobbies': ['coding', 'reading', 'gaming']}\n"
     ]
    }
   ],
   "source": [
    "me = {\n",
    "    # key: value\n",
    "    'name': 'Tomas',\n",
    "    'age': 25,\n",
    "    'city': 'Vilnius',\n",
    "    'hobbies': ['coding', 'reading', 'gaming']\n",
    "}\n",
    "# me['age'] = 29\n",
    "print(me)\n",
    "me.update({'age': 28, 'city': 'Siauliai'})\n",
    "print(me)"
   ]
  },
  {
   "cell_type": "code",
   "execution_count": 98,
   "metadata": {},
   "outputs": [
    {
     "name": "stdout",
     "output_type": "stream",
     "text": [
      "name\n",
      "age\n",
      "city\n",
      "hobbies\n",
      "key is name and value is Tomas\n",
      "key is age and value is 28\n",
      "key is city and value is Siauliai\n",
      "key is hobbies and value is ['coding', 'reading', 'gaming']\n"
     ]
    }
   ],
   "source": [
    "for key in me:\n",
    "    print(key)\n",
    "# same\n",
    "for key in me.keys():\n",
    "    print(f'key is {key} and value is {me[key]}')\n"
   ]
  },
  {
   "cell_type": "code",
   "execution_count": 100,
   "metadata": {},
   "outputs": [
    {
     "name": "stdout",
     "output_type": "stream",
     "text": [
      "Tomas\n",
      "28\n",
      "Siauliai\n",
      "['coding', 'reading', 'gaming']\n"
     ]
    }
   ],
   "source": [
    "for value in me.values():\n",
    "    print(value)"
   ]
  },
  {
   "cell_type": "code",
   "execution_count": 103,
   "metadata": {},
   "outputs": [
    {
     "name": "stdout",
     "output_type": "stream",
     "text": [
      "key is name and value is Tomas\n",
      "key is age and value is 28\n",
      "key is city and value is Siauliai\n",
      "key is hobbies and value is ['coding', 'reading', 'gaming']\n"
     ]
    }
   ],
   "source": [
    "for key, value in me.items():\n",
    "    print(f'key is {key} and value is {value}')"
   ]
  },
  {
   "cell_type": "code",
   "execution_count": 105,
   "metadata": {},
   "outputs": [
    {
     "name": "stdout",
     "output_type": "stream",
     "text": [
      "125\n"
     ]
    }
   ],
   "source": [
    "twitter_post = {\n",
    "  \"created_at\": \"Tue Feb 27 21:11:40 +0000 2018\",\n",
    "  \"id\": 968594506663669800,\n",
    "  \"id_str\": \"968594506663669760\",\n",
    "  \"text\": \"RT @honeydrop_506: 180222 ICN #백현 #BAEKHYUNnn나의 겨울과 너nn#iHeartAwards #BestFanArmy #EXOL @weareoneEXO https://t.co/hg7I3xAlBg\",\n",
    "  \"truncated\": False,\n",
    "  \"in_reply_to_status_id\": None,\n",
    "  \"in_reply_to_status_id_str\": None,\n",
    "  \"in_reply_to_user_id\": None,\n",
    "  \"in_reply_to_user_id_str\": None,\n",
    "  \"in_reply_to_screen_name\": None,\n",
    "  \"user\": {\n",
    "    \"id\": 4448809940,\n",
    "    \"id_str\": \"4448809940\",\n",
    "    \"name\": \"ayah\",\n",
    "    \"screen_name\": \"lovbyun\",\n",
    "    \"location\": \"bbh iu jjh pcy kjd dks\",\n",
    "    \"url\": \"https://curiouscat.me/baekhyun-l\",\n",
    "    \"description\": \"hi hello I love exo\",\n",
    "    \"translator_type\": \"none\",\n",
    "    \"protected\": False,\n",
    "    \"verified\": False,\n",
    "    \"followers_count\": 1142,\n",
    "    \"friends_count\": 125,\n",
    "    \"listed_count\": 20,\n",
    "    \"favourites_count\": 5712,\n",
    "    \"statuses_count\": 4011,\n",
    "    \"created_at\": \"Fri Dec 04 03:44:59 +0000 2015\",\n",
    "    \"utc_offset\": -28800,\n",
    "    \"time_zone\": \"Pacific Time (US & Canada)\",\n",
    "    \"geo_enabled\": False,\n",
    "    \"lang\": \"en\",\n",
    "    \"contributors_enabled\": False,\n",
    "    \"is_translator\": False,\n",
    "    \"profile_background_color\": \"000000\",\n",
    "    \"profile_background_image_url\": \"http://abs.twimg.com/images/themes/theme1/bg.png\",\n",
    "    \"profile_background_image_url_https\": \"https://abs.twimg.com/images/themes/theme1/bg.png\",\n",
    "    \"profile_background_tile\": False,\n",
    "    \"profile_link_color\": \"F58EA8\",\n",
    "    \"profile_sidebar_border_color\": \"000000\",\n",
    "    \"profile_sidebar_fill_color\": \"000000\",\n",
    "    \"profile_text_color\": \"000000\",\n",
    "    \"profile_use_background_image\": False,\n",
    "    \"profile_image_url\": \"http://pbs.twimg.com/profile_images/967130320259526656/0xZ-wxXJ_normal.jpg\",\n",
    "    \"profile_image_url_https\": \"https://pbs.twimg.com/profile_images/967130320259526656/0xZ-wxXJ_normal.jpg\",\n",
    "    \"profile_banner_url\": \"https://pbs.twimg.com/profile_banners/4448809940/1519340670\",\n",
    "    \"default_profile\": False,\n",
    "    \"default_profile_image\": False,\n",
    "    \"following\": None,\n",
    "    \"follow_request_sent\": None,\n",
    "    \"notifications\": None\n",
    "  },\n",
    "}\n",
    "print(twitter_post[\"user\"][\"friends_count\"])"
   ]
  },
  {
   "cell_type": "code",
   "execution_count": 119,
   "metadata": {},
   "outputs": [
    {
     "name": "stdout",
     "output_type": "stream",
     "text": [
      "Ford\n",
      "3\n",
      "{'brand': 'Ford', 'model': 'Mustang', 'year': 2022}\n"
     ]
    }
   ],
   "source": [
    "car = {\n",
    "    \"brand\": \"Ford\",\n",
    "    \"model\": \"Mustang\",\n",
    "    \"year\": 1964\n",
    "}\n",
    "print(car.get(\"brand\"))\n",
    "print(len(car))\n",
    "car[\"year\"] = 2022\n",
    "print(car)"
   ]
  },
  {
   "cell_type": "code",
   "execution_count": 113,
   "metadata": {},
   "outputs": [
    {
     "name": "stdout",
     "output_type": "stream",
     "text": [
      "{'brand': 'Ford', 'model': 'Mustang', 'year': '2022', 'color': 'red', 'used': True}\n"
     ]
    }
   ],
   "source": [
    "car[\"color\"] = \"red\"\n",
    "car[\"used\"] = True\n",
    "print(car)"
   ]
  },
  {
   "cell_type": "code",
   "execution_count": 118,
   "metadata": {},
   "outputs": [
    {
     "name": "stdout",
     "output_type": "stream",
     "text": [
      "{'model': 'Mustang', 'year': 1964}\n",
      "{'model': 'Mustang', 'year': None, 'color': 'red', 'used': True}\n"
     ]
    }
   ],
   "source": [
    "car = {\n",
    "    \"brand\": \"Ford\",\n",
    "    \"model\": \"Mustang\",\n",
    "    \"year\": 1964\n",
    "}\n",
    "car[\"color\"] = \"red\"\n",
    "car[\"used\"] = True\n",
    "\n",
    "del car[\"brand\"]\n",
    "print(car)\n",
    "\n",
    "car[\"year\"] = None\n",
    "print(car)"
   ]
  }
 ],
 "metadata": {
  "kernelspec": {
   "display_name": "Python 3",
   "language": "python",
   "name": "python3"
  },
  "language_info": {
   "codemirror_mode": {
    "name": "ipython",
    "version": 3
   },
   "file_extension": ".py",
   "mimetype": "text/x-python",
   "name": "python",
   "nbconvert_exporter": "python",
   "pygments_lexer": "ipython3",
   "version": "3.10.2"
  }
 },
 "nbformat": 4,
 "nbformat_minor": 2
}
