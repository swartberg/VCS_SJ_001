{
 "cells": [
  {
   "cell_type": "markdown",
   "metadata": {},
   "source": [
    "# uzduotys"
   ]
  },
  {
   "cell_type": "code",
   "execution_count": 63,
   "metadata": {},
   "outputs": [
    {
     "name": "stdout",
     "output_type": "stream",
     "text": [
      "(70, 65, 'Pirma daina ilgesne', Counter({'lyg': 4, 'ir': 3, 'tave': 3, 'vėl': 2, 'svajonių': 2, 'laivai': 2, 'smėlio': 2, 'prie': 2, 'jūros': 2, 'meilė': 2, 'meilės': 2, 'lai': 2, 'neša': 2, 'kai': 2, 'mes': 1, 'susitikom': 1, 'laikrodis': 1, 'liko': 1, 'žaislai': 1, 'ilgesiu': 1, 'žaidė': 1, 'pakrantės': 1, 'vaikai': 1, 'tu': 1, 'pašauk': 1, 'vardą': 1, 'gal': 1, 'sugrįšk': 1, 'tą': 1, 'kartą': 1, 'apkabinki': 1, 'mane': 1, 'juk': 1, 'mylėjau': 1, 'priedainis:': 1, 'jei': 1, 'laivas': 1, 'kitam': 1, 'krante': 1, 'burės': 1, 'jį': 1, 'pas': 1, 'buvus': 1, 'sugrįš': 1, 'abejonių': 1, 'neliks': 1, 'dangum': 1, 'skraidys': 1, 'išdavystė': 1, 'sugriuvo': 1, 'sukiužus': 1, 'uola': 1, 'paslaptis': 1, 'jūra': 1, 'paskandins': 1, 'bangose': 1, 'tavo': 1, 'dieviškas': 1, 'juokas': 1, 'skambės': 1, 'žuvėdra': 1, 'ant': 1, 'rankų': 1, 'meilę': 1, 'į': 1, 'dangų': 1, 'mylėsiu': 1, 'mūsų': 1, 'laimės': 1, 'laive': 1}))\n"
     ]
    }
   ],
   "source": [
    "import collections\n",
    "\n",
    "def song_words(string_1, string_2):\n",
    "    string_1_low = string_1.lower().replace(\"'\", \"\").replace('\"', \"\").split()\n",
    "    string_2_low = string_2.lower().replace(\"'\", \"\").replace('\"', \"\").split()\n",
    "\n",
    "    # word_count_1 = len(string_1_low.split())\n",
    "    # words_count_2 = len(string_2_low.split())\n",
    "\n",
    "    set_1 = set(string_1_low)\n",
    "    set_2 = set(string_2_low)\n",
    "\n",
    "    if len(set_1) > len(set_2):\n",
    "        pirma = (f'Pirma daina ilgesne')\n",
    "    elif len(set_1) == len(set_2):\n",
    "        pirma = (f'Dainos vienodo ilgio')\n",
    "    else:\n",
    "        pirma (f'Antra daina ilgesne')\n",
    "\n",
    "    word_count = collections.Counter(string_1_low)\n",
    "\n",
    "    return len(set_1), len(set_2), pirma, word_count\n",
    "        \n",
    "    \n",
    "song_1 = '''\n",
    "Mes ir vėl susitikom lyg svajonių laivai\n",
    "Smėlio laikrodis liko lyg prie jūros žaislai\n",
    "Meilė ilgesiu žaidė lyg pakrantės vaikai\n",
    "Tu pašauk meilės vardą gal sugrįšk ir tą kartą\n",
    "Apkabinki mane juk mylėjau tave\n",
    "\n",
    "\n",
    "Priedainis:\n",
    "Jei meilės laivas kitam krante\n",
    "Lai neša burės jį pas tave\n",
    "Kai buvus meilė sugrįš ir abejonių neliks\n",
    "Laivai svajonių dangum skraidys\n",
    "\n",
    "\n",
    "Išdavystė sugriuvo lyg sukiužus uola\n",
    "Smėlio paslaptis jūra paskandins bangose\n",
    "Tavo dieviškas juokas vėl prie jūros skambės\n",
    "Lai žuvėdra ant rankų meilę neša į dangų\n",
    "Kai mylėsiu tave mūsų laimės laive\n",
    "'''\n",
    "song_2 = '''\n",
    "Ką daryt, jei tavęs nemyli niekas, o tu taip visus myli?\n",
    "Ką daryt, jei tu dirbęs per dieną vėl vargšas esi?\n",
    "Lig ausų gali šypsotis, net merginos nemylės\n",
    "Jei turi čigono širdį niekas rankos neišties\n",
    "Suradau sprendimą gerą - neliūdėti niekada\n",
    "Į rankas imu gitarą ir sau švilpauju la-lai-la\n",
    "Ką daryt, jei tavęs nemyli niekas, o tu taip visus myli?\n",
    "Ką daryt, jei tu dirbęs per dieną vėl vargšas esi?\n",
    "Jei kitiems mama ir tėtis dovanoja Mercedes\n",
    "Aš esu kaip pirštas vienas ir sau linksminu gatves\n",
    "Jei turi čigono širdį nieks prie stalo nepakvies\n",
    "Tai todėl dažnai sau vienas ir dainuoju daineles\n",
    "Ką daryt, jei tavęs nemyli niekas, o tu taip visus myli?\n",
    "Ką daryt, jei tu dirbęs per dieną vėl vargšas esi?\n",
    "'''\n",
    "\n",
    "\n",
    "print(song_words(song_1, song_2))\n"
   ]
  },
  {
   "cell_type": "markdown",
   "metadata": {},
   "source": [
    "# lambda"
   ]
  },
  {
   "cell_type": "code",
   "execution_count": 68,
   "metadata": {},
   "outputs": [
    {
     "name": "stdout",
     "output_type": "stream",
     "text": [
      "['as', 'mes', 'namas', 'stalas', 'kompiuteris', 'labaiilgaszodis']\n",
      "['as', 'mes', 'namas', 'stalas', 'kompiuteris', 'labaiilgaszodis']\n"
     ]
    }
   ],
   "source": [
    "zodziai = ['as', 'mes', 'namas', 'kompiuteris', 'labaiilgaszodis', 'stalas']\n",
    "print(sorted(zodziai, key = len))\n",
    "# same as:\n",
    "print(sorted(zodziai, key = lambda x: len(x)))"
   ]
  },
  {
   "cell_type": "code",
   "execution_count": 70,
   "metadata": {},
   "outputs": [
    {
     "name": "stdout",
     "output_type": "stream",
     "text": [
      "['as', 'namas', 'labaiilgaszodis', 'stalas', 'mes', 'kompiuteris']\n",
      "['mes', 'kompiuteris', 'as', 'namas', 'stalas', 'labaiilgaszodis']\n"
     ]
    }
   ],
   "source": [
    "print(sorted(zodziai, key = lambda x: x.count('e')))\n",
    "print(sorted(zodziai, key = lambda x: x.count('a')))"
   ]
  },
  {
   "cell_type": "code",
   "execution_count": 76,
   "metadata": {},
   "outputs": [
    {
     "name": "stdout",
     "output_type": "stream",
     "text": [
      "['as', 'namas', 'labaiilgaszodis', 'stalas']\n",
      "['mes', 'kompiuteris']\n"
     ]
    }
   ],
   "source": [
    "print(list(filter(lambda x: 'a' in x, zodziai))) # to see filter result convert to list\n",
    "print(list(filter(lambda x: 'e' in x, zodziai)))"
   ]
  },
  {
   "cell_type": "markdown",
   "metadata": {},
   "source": [
    "# uzduotys 2"
   ]
  },
  {
   "cell_type": "code",
   "execution_count": 99,
   "metadata": {},
   "outputs": [
    {
     "name": "stdout",
     "output_type": "stream",
     "text": [
      "Anomalija. Truksta [20]\n"
     ]
    }
   ],
   "source": [
    "list_3 = [17, 18, 19, 21]\n",
    "\n",
    "for idx in range(0, len(list_3)-1):\n",
    "    if list_3[idx]+1 == list_3[idx+1]:\n",
    "        continue\n",
    "    else:\n",
    "        print(f'Anomalija. Truksta {list(range(list_3[idx] + 1, list_3[idx+1]))}')"
   ]
  }
 ],
 "metadata": {
  "kernelspec": {
   "display_name": "Python 3",
   "language": "python",
   "name": "python3"
  },
  "language_info": {
   "codemirror_mode": {
    "name": "ipython",
    "version": 3
   },
   "file_extension": ".py",
   "mimetype": "text/x-python",
   "name": "python",
   "nbconvert_exporter": "python",
   "pygments_lexer": "ipython3",
   "version": "3.10.2"
  }
 },
 "nbformat": 4,
 "nbformat_minor": 2
}
