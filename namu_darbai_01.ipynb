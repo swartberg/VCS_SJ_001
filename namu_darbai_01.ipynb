{
 "cells": [
  {
   "cell_type": "markdown",
   "metadata": {},
   "source": [
    "# namu_darbai_01"
   ]
  },
  {
   "cell_type": "markdown",
   "metadata": {},
   "source": [
    "## uzduotis_1"
   ]
  },
  {
   "cell_type": "code",
   "execution_count": 7,
   "metadata": {},
   "outputs": [
    {
     "name": "stdout",
     "output_type": "stream",
     "text": [
      "Gyvūnas - šuo (2 m.) turi rudą kailio spalvą ir sveria 1.4 kg\n"
     ]
    }
   ],
   "source": [
    "#  1. Susikurkite šiuos kintamuosius, saugančius informaciją apie gyvūną: pavadinimas, amžius, kailio spalva, svoris. Išveskite šiuos duomenis gražiai suformatuotus vienoje eilutėje, sakinio forma. Pavyzdžiui:\n",
    "#  \"Gyvūnas - šuo (2 m.) turi rudą kailio spalvą ir sveria 1.4 kg.\" \n",
    "\n",
    "pavadinimas = 'šuo'\n",
    "amzius = 2\n",
    "kailio_spalva = 'ruda'\n",
    "svoris = 1.4\n",
    "\n",
    "last_let = kailio_spalva[-1]\n",
    "spalva = kailio_spalva.replace(last_let, 'ą')\n",
    "\n",
    "sakinys = f'Gyvūnas - {pavadinimas} ({amzius} m.) turi {spalva} kailio spalvą ir sveria {svoris} kg'\n",
    "print(sakinys)"
   ]
  },
  {
   "cell_type": "markdown",
   "metadata": {},
   "source": [
    "## uzduotis_2"
   ]
  },
  {
   "cell_type": "code",
   "execution_count": 4,
   "metadata": {},
   "outputs": [
    {
     "name": "stdout",
     "output_type": "stream",
     "text": [
      "stressed\n"
     ]
    }
   ],
   "source": [
    "# 2. Apverskite žodį \"desserts\". Galima naudoti Slicing arba String metodą.\n",
    "\n",
    "print('desserts'[::-1])"
   ]
  },
  {
   "cell_type": "markdown",
   "metadata": {},
   "source": [
    "## uzduotis_3"
   ]
  },
  {
   "cell_type": "code",
   "execution_count": 5,
   "metadata": {},
   "outputs": [
    {
     "name": "stdout",
     "output_type": "stream",
     "text": [
      "Kintamojo 'needle' vertė yra dalis kintamojo dalis 'haystack' kintamojo vertės\n"
     ]
    }
   ],
   "source": [
    "# 3. Patikrinti ar kintamojo 'needle' vertė yra dalis 'haystack' kintamojo vertės.\n",
    "# needle =\"racecar\"\n",
    "# haystack = \"The racecar is fast, but can it outrun a palindrome?\"\n",
    "\n",
    "needle = 'racecar'\n",
    "haystack = 'The racecar is fast, but can it outrun a palindrome?'\n",
    "\n",
    "yra = \"Kintamojo 'needle' vertė yra dalis kintamojo dalis 'haystack' kintamojo vertės\"\n",
    "nera = \"Kintamojo 'needle' vertė nėra dalis kintamojo dalis 'haystack' kintamojo vertės\"\n",
    "\n",
    "if needle in haystack:\n",
    "    print(yra)\n",
    "else:\n",
    "    print(nera)"
   ]
  },
  {
   "cell_type": "markdown",
   "metadata": {},
   "source": [
    "## uzduotis_4"
   ]
  },
  {
   "cell_type": "code",
   "execution_count": 8,
   "metadata": {},
   "outputs": [
    {
     "name": "stdout",
     "output_type": "stream",
     "text": [
      "44\n",
      "44.0\n"
     ]
    }
   ],
   "source": [
    "# 4. sudėkite šiuos du kintamuosius kaip skaičius:\n",
    "# bool_1 = True\n",
    "# number_string = \"43\"\n",
    "\n",
    "bool_1 = True\n",
    "number_string = \"43\"\n",
    "\n",
    "print(int(bool_1) + int(number_string))\n",
    "print(float(bool_1) + float(number_string))"
   ]
  }
 ],
 "metadata": {
  "kernelspec": {
   "display_name": "Python 3",
   "language": "python",
   "name": "python3"
  },
  "language_info": {
   "codemirror_mode": {
    "name": "ipython",
    "version": 3
   },
   "file_extension": ".py",
   "mimetype": "text/x-python",
   "name": "python",
   "nbconvert_exporter": "python",
   "pygments_lexer": "ipython3",
   "version": "3.10.2"
  },
  "orig_nbformat": 4
 },
 "nbformat": 4,
 "nbformat_minor": 2
}
